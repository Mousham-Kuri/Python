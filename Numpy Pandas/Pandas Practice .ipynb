{
 "cells": [
  {
   "cell_type": "code",
   "execution_count": 1,
   "metadata": {},
   "outputs": [
    {
     "ename": "SyntaxError",
     "evalue": "invalid syntax (<ipython-input-1-a3d68d9a37b9>, line 1)",
     "output_type": "error",
     "traceback": [
      "\u001b[1;36m  File \u001b[1;32m\"<ipython-input-1-a3d68d9a37b9>\"\u001b[1;36m, line \u001b[1;32m1\u001b[0m\n\u001b[1;33m    Create a dataframe from the file ‘marks.csv’ and print the contents of the dataframe. Open the file from the link above and inspect the required elements in the file (header, separator, etc.). If the top row is a regular entry, do not load it as the column header.\u001b[0m\n\u001b[1;37m           ^\u001b[0m\n\u001b[1;31mSyntaxError\u001b[0m\u001b[1;31m:\u001b[0m invalid syntax\n"
     ]
    }
   ],
   "source": [
    "Create a dataframe from the file ‘marks.csv’ and print the contents of the dataframe. Open the file from the link above and inspect the required elements in the file (header, separator, etc.). If the top row is a regular entry, do not load it as the column header."
   ]
  },
  {
   "cell_type": "code",
   "execution_count": 2,
   "metadata": {},
   "outputs": [
    {
     "name": "stdout",
     "output_type": "stream",
     "text": [
      "     0        1            2   3   4   5\n",
      "0    1   Akshay  Mathematics  50  40  80\n",
      "1    2   Mahima      English  40  33  83\n",
      "2    3    Vikas  Mathematics  50  42  84\n",
      "3    4  Abhinav      English  40  31  78\n",
      "4    5   Mahima      Science  50  40  80\n",
      "5    6   Akshay      Science  50  49  98\n",
      "6    7  Abhinav  Mathematics  50  47  94\n",
      "7    8    Vikas      Science  50  40  80\n",
      "8    9  Abhinav      Science  50  47  94\n",
      "9   10    Vikas      English  40  39  98\n",
      "10  11   Akshay      English  40  35  88\n",
      "11  12   Mahima  Mathematics  50  43  86\n"
     ]
    }
   ],
   "source": [
    "import numpy as np\n",
    "import pandas as pd\n",
    "a=pd.read_csv(r'https://media-doselect.s3.amazonaws.com/generic/A08MajL8qN4rq72EpVJbAP1Rw/marks_1.csv', sep='|', header= None)\n",
    "# The file is stored at the following path:\n",
    "# 'https://media-doselect.s3.amazonaws.com/generic/A08MajL8qN4rq72EpVJbAP1Rw/marks_1.csv'\n",
    "# Provide your answer below\n",
    "df =   a    # Write your answer here\n",
    "\n",
    "print(df)"
   ]
  },
  {
   "cell_type": "code",
   "execution_count": 3,
   "metadata": {},
   "outputs": [
    {
     "ename": "SyntaxError",
     "evalue": "invalid syntax (<ipython-input-3-63ddefb20561>, line 1)",
     "output_type": "error",
     "traceback": [
      "\u001b[1;36m  File \u001b[1;32m\"<ipython-input-3-63ddefb20561>\"\u001b[1;36m, line \u001b[1;32m1\u001b[0m\n\u001b[1;33m    Using the file ‘marks.csv’, create a dataframe as shown below.\u001b[0m\n\u001b[1;37m          ^\u001b[0m\n\u001b[1;31mSyntaxError\u001b[0m\u001b[1;31m:\u001b[0m invalid syntax\n"
     ]
    }
   ],
   "source": [
    "Using the file ‘marks.csv’, create a dataframe as shown below.\n",
    "You must be able make the first column of the file as the index and name it 'S.No.'. Also, the columns must be renamed as shown in the imag"
   ]
  },
  {
   "cell_type": "code",
   "execution_count": 4,
   "metadata": {},
   "outputs": [
    {
     "name": "stdout",
     "output_type": "stream",
     "text": [
      "          Name      Subject  Maximum Marks  Marks Obtained  Percentage\n",
      "S.No.                                                                 \n",
      "1       Akshay  Mathematics             50              40          80\n",
      "2       Mahima      English             40              33          83\n",
      "3        Vikas  Mathematics             50              42          84\n",
      "4      Abhinav      English             40              31          78\n",
      "5       Mahima      Science             50              40          80\n",
      "6       Akshay      Science             50              49          98\n",
      "7      Abhinav  Mathematics             50              47          94\n",
      "8        Vikas      Science             50              40          80\n",
      "9      Abhinav      Science             50              47          94\n",
      "10       Vikas      English             40              39          98\n",
      "11      Akshay      English             40              35          88\n",
      "12      Mahima  Mathematics             50              43          86\n"
     ]
    }
   ],
   "source": [
    "import numpy as np\n",
    "import pandas as pd\n",
    "\n",
    "# The file is stored at the following path:\n",
    "# 'https://media-doselect.s3.amazonaws.com/generic/A08MajL8qN4rq72EpVJbAP1Rw/marks_1.csv'\n",
    "# Provide your answer below\n",
    "df =pd.read_csv('https://media-doselect.s3.amazonaws.com/generic/A08MajL8qN4rq72EpVJbAP1Rw/marks_1.csv', header = None, index_col=0, sep='|')\n",
    "df.index.name='S.No.'\n",
    "df.columns=['Name', 'Subject', 'Maximum Marks', 'Marks Obtained', 'Percentage']\n",
    "print(df)"
   ]
  },
  {
   "cell_type": "code",
   "execution_count": 5,
   "metadata": {},
   "outputs": [
    {
     "ename": "SyntaxError",
     "evalue": "invalid syntax (<ipython-input-5-7b586a3b0ef3>, line 1)",
     "output_type": "error",
     "traceback": [
      "\u001b[1;36m  File \u001b[1;32m\"<ipython-input-5-7b586a3b0ef3>\"\u001b[1;36m, line \u001b[1;32m1\u001b[0m\n\u001b[1;33m    You are provided with the dataset of a company which has offices across three cities - Mumbai, Bangalore and New Delhi. The dataset contains the rating (out of 5) of all the employees from different departments (Finance, HR, Marketing and Sales).\u001b[0m\n\u001b[1;37m        ^\u001b[0m\n\u001b[1;31mSyntaxError\u001b[0m\u001b[1;31m:\u001b[0m invalid syntax\n"
     ]
    }
   ],
   "source": [
    "You are provided with the dataset of a company which has offices across three cities - Mumbai, Bangalore and New Delhi. The dataset contains the rating (out of 5) of all the employees from different departments (Finance, HR, Marketing and Sales). \n",
    "\n",
    "\n",
    "\n",
    "Create a hierarchical index based on two columns: Office and Department\n",
    "\n",
    "\n",
    "\n",
    "Print the first 5 rows as the output. Refer to the image below for your reference.\n",
    "\n",
    "\n",
    "\n",
    "\n",
    "\n",
    "\n",
    "\n",
    "Note: You should not sort or modify values in other columns of the dataframe. Use sort_index(inplace=True) to club the same locations together."
   ]
  },
  {
   "cell_type": "code",
   "execution_count": 6,
   "metadata": {},
   "outputs": [
    {
     "name": "stdout",
     "output_type": "stream",
     "text": [
      "                         ID  Rating\n",
      "Office    Department               \n",
      "Bangalore Finance     U2F53     2.7\n",
      "          Finance     U1F53     3.7\n",
      "          Finance     U1F28     3.2\n",
      "          Finance     U1F15     3.3\n",
      "          Finance     U1F14     2.9\n"
     ]
    }
   ],
   "source": [
    "import numpy as np\n",
    "import pandas as pd\n",
    "\n",
    "# The file is stored at the following path:\n",
    "# 'https://media-doselect.s3.amazonaws.com/generic/NMgEjwkAEGGQZBoNYGr9Ld7w0/rating.csv'\n",
    "df = pd.read_csv('https://media-doselect.s3.amazonaws.com/generic/NMgEjwkAEGGQZBoNYGr9Ld7w0/rating.csv', index_col=[2,1])\n",
    "# Provide your answer below\n",
    "\n",
    "print(df.sort_index().head())"
   ]
  },
  {
   "cell_type": "code",
   "execution_count": 7,
   "metadata": {},
   "outputs": [
    {
     "ename": "SyntaxError",
     "evalue": "invalid syntax (<ipython-input-7-cf92f3b298eb>, line 1)",
     "output_type": "error",
     "traceback": [
      "\u001b[1;36m  File \u001b[1;32m\"<ipython-input-7-cf92f3b298eb>\"\u001b[1;36m, line \u001b[1;32m1\u001b[0m\n\u001b[1;33m    Given a dataframe 'df' use the following commands and analyse the result.\u001b[0m\n\u001b[1;37m          ^\u001b[0m\n\u001b[1;31mSyntaxError\u001b[0m\u001b[1;31m:\u001b[0m invalid syntax\n"
     ]
    }
   ],
   "source": [
    "Given a dataframe 'df' use the following commands and analyse the result.\n",
    "describe() \n",
    "columns\n",
    "shape\n",
    "Execution Time Limit"
   ]
  },
  {
   "cell_type": "code",
   "execution_count": 8,
   "metadata": {},
   "outputs": [
    {
     "name": "stdout",
     "output_type": "stream",
     "text": [
      "                X           Y        FFMC         DMC          DC         ISI  \\\n",
      "count  517.000000  517.000000  517.000000  517.000000  517.000000  517.000000   \n",
      "mean     4.669246    4.299807   90.644681  110.872340  547.940039    9.021663   \n",
      "std      2.313778    1.229900    5.520111   64.046482  248.066192    4.559477   \n",
      "min      1.000000    2.000000   18.700000    1.100000    7.900000    0.000000   \n",
      "25%      3.000000    4.000000   90.200000   68.600000  437.700000    6.500000   \n",
      "50%      4.000000    4.000000   91.600000  108.300000  664.200000    8.400000   \n",
      "75%      7.000000    5.000000   92.900000  142.400000  713.900000   10.800000   \n",
      "max      9.000000    9.000000   96.200000  291.300000  860.600000   56.100000   \n",
      "\n",
      "             temp          RH        wind        rain         area  \n",
      "count  517.000000  517.000000  517.000000  517.000000   517.000000  \n",
      "mean    18.889168   44.288201    4.017602    0.021663    12.847292  \n",
      "std      5.806625   16.317469    1.791653    0.295959    63.655818  \n",
      "min      2.200000   15.000000    0.400000    0.000000     0.000000  \n",
      "25%     15.500000   33.000000    2.700000    0.000000     0.000000  \n",
      "50%     19.300000   42.000000    4.000000    0.000000     0.520000  \n",
      "75%     22.800000   53.000000    4.900000    0.000000     6.570000  \n",
      "max     33.300000  100.000000    9.400000    6.400000  1090.840000  \n",
      "Index(['X', 'Y', 'month', 'day', 'FFMC', 'DMC', 'DC', 'ISI', 'temp', 'RH',\n",
      "       'wind', 'rain', 'area'],\n",
      "      dtype='object')\n",
      "(517, 13)\n"
     ]
    }
   ],
   "source": [
    "import numpy as np\n",
    "import pandas as pd\n",
    "df = pd.read_csv('https://query.data.world/s/vBDCsoHCytUSLKkLvq851k2b8JOCkF')\n",
    "print(df.describe())\n",
    "print(df.columns)\n",
    "print(df.shape)"
   ]
  },
  {
   "cell_type": "code",
   "execution_count": 9,
   "metadata": {},
   "outputs": [
    {
     "ename": "SyntaxError",
     "evalue": "invalid syntax (<ipython-input-9-891179672918>, line 2)",
     "output_type": "error",
     "traceback": [
      "\u001b[1;36m  File \u001b[1;32m\"<ipython-input-9-891179672918>\"\u001b[1;36m, line \u001b[1;32m2\u001b[0m\n\u001b[1;33m    Print out the columns 'month', 'day', 'temp', 'area' from the dataframe 'df'.\u001b[0m\n\u001b[1;37m          ^\u001b[0m\n\u001b[1;31mSyntaxError\u001b[0m\u001b[1;31m:\u001b[0m invalid syntax\n"
     ]
    }
   ],
   "source": [
    "Description\n",
    "Print out the columns 'month', 'day', 'temp', 'area' from the dataframe 'df'."
   ]
  },
  {
   "cell_type": "code",
   "execution_count": 10,
   "metadata": {},
   "outputs": [
    {
     "name": "stdout",
     "output_type": "stream",
     "text": [
      "   month  day  temp  area\n",
      "0    mar  fri   8.2   0.0\n",
      "1    oct  tue  18.0   0.0\n",
      "2    oct  sat  14.6   0.0\n",
      "3    mar  fri   8.3   0.0\n",
      "4    mar  sun  11.4   0.0\n",
      "5    aug  sun  22.2   0.0\n",
      "6    aug  mon  24.1   0.0\n",
      "7    aug  mon   8.0   0.0\n",
      "8    sep  tue  13.1   0.0\n",
      "9    sep  sat  22.8   0.0\n",
      "10   sep  sat  17.8   0.0\n",
      "11   sep  sat  19.3   0.0\n",
      "12   aug  fri  17.0   0.0\n",
      "13   sep  mon  21.3   0.0\n",
      "14   sep  wed  26.4   0.0\n",
      "15   sep  fri  22.9   0.0\n",
      "16   mar  sat  15.1   0.0\n",
      "17   oct  mon  16.7   0.0\n",
      "18   mar  wed  15.9   0.0\n",
      "19   apr  sat   9.3   0.0\n"
     ]
    }
   ],
   "source": [
    "import pandas as pd\n",
    "df = pd.read_csv('https://query.data.world/s/vBDCsoHCytUSLKkLvq851k2b8JOCkF')\n",
    "df_2 = df[['month', 'day', 'temp', 'area']] #Type your code for selecting columns 'month', 'day' , 'temp' , 'area'\n",
    "print(df_2.head(20))"
   ]
  },
  {
   "cell_type": "code",
   "execution_count": 11,
   "metadata": {},
   "outputs": [
    {
     "ename": "SyntaxError",
     "evalue": "invalid syntax (<ipython-input-11-b105741a3747>, line 2)",
     "output_type": "error",
     "traceback": [
      "\u001b[1;36m  File \u001b[1;32m\"<ipython-input-11-b105741a3747>\"\u001b[1;36m, line \u001b[1;32m2\u001b[0m\n\u001b[1;33m    Print only the even numbers of rows of the dataframe 'df'.\u001b[0m\n\u001b[1;37m          ^\u001b[0m\n\u001b[1;31mSyntaxError\u001b[0m\u001b[1;31m:\u001b[0m invalid syntax\n"
     ]
    }
   ],
   "source": [
    "Description\n",
    "Print only the even numbers of rows of the dataframe 'df'.\n",
    "\n",
    "Note: Don't include the row indexed zero."
   ]
  },
  {
   "cell_type": "code",
   "execution_count": 12,
   "metadata": {},
   "outputs": [
    {
     "name": "stdout",
     "output_type": "stream",
     "text": [
      "    X  Y month  day  FFMC    DMC     DC   ISI  temp  RH  wind  rain  area\n",
      "2   7  4   oct  sat  90.6   43.7  686.9   6.7  14.6  33   1.3   0.0   0.0\n",
      "4   8  6   mar  sun  89.3   51.3  102.2   9.6  11.4  99   1.8   0.0   0.0\n",
      "6   8  6   aug  mon  92.3   88.9  495.6   8.5  24.1  27   3.1   0.0   0.0\n",
      "8   8  6   sep  tue  91.0  129.5  692.6   7.0  13.1  63   5.4   0.0   0.0\n",
      "10  7  5   sep  sat  92.5   88.0  698.6   7.1  17.8  51   7.2   0.0   0.0\n",
      "12  6  5   aug  fri  63.5   70.8  665.3   0.8  17.0  72   6.7   0.0   0.0\n",
      "14  6  5   sep  wed  92.9  133.3  699.6   9.2  26.4  21   4.5   0.0   0.0\n",
      "16  5  5   mar  sat  91.7   35.8   80.8   7.8  15.1  27   5.4   0.0   0.0\n",
      "18  6  4   mar  wed  89.2   27.9   70.8   6.3  15.9  35   4.0   0.0   0.0\n",
      "20  6  4   sep  tue  91.0  129.5  692.6   7.0  18.3  40   2.7   0.0   0.0\n",
      "22  7  4   jun  sun  94.3   96.3  200.0  56.1  21.0  44   4.5   0.0   0.0\n",
      "24  7  4   aug  sat  93.5  139.4  594.2  20.3  23.7  32   5.8   0.0   0.0\n",
      "26  7  4   sep  fri  92.4  117.9  668.0  12.2  19.0  34   5.8   0.0   0.0\n",
      "28  6  3   sep  sat  93.4  145.4  721.4   8.1  30.2  24   2.7   0.0   0.0\n",
      "30  6  3   sep  fri  94.3   85.1  692.3  15.9  25.4  24   3.6   0.0   0.0\n",
      "32  6  3   sep  fri  88.6   69.7  706.8   5.8  20.6  37   1.8   0.0   0.0\n",
      "34  6  3   sep  mon  91.8   78.5  724.3   9.2  21.2  32   2.7   0.0   0.0\n",
      "36  6  3   oct  tue  90.6   35.4  669.1   6.7  21.7  24   4.5   0.0   0.0\n",
      "38  7  3   oct  sat  90.6   43.7  686.9   6.7  17.8  27   4.0   0.0   0.0\n",
      "40  4  4   jul  tue  79.5   60.6  366.7   1.5  23.3  37   3.1   0.0   0.0\n"
     ]
    }
   ],
   "source": [
    "import pandas as pd\n",
    "df = pd.read_csv('https://query.data.world/s/vBDCsoHCytUSLKkLvq851k2b8JOCkF')\n",
    "df_2 = df.iloc[2:-1:2,:]   #Type your code here for indexing the dataframe\n",
    "print(df_2.head(20))"
   ]
  },
  {
   "cell_type": "code",
   "execution_count": 13,
   "metadata": {},
   "outputs": [
    {
     "ename": "SyntaxError",
     "evalue": "invalid syntax (<ipython-input-13-fe1979062c34>, line 2)",
     "output_type": "error",
     "traceback": [
      "\u001b[1;36m  File \u001b[1;32m\"<ipython-input-13-fe1979062c34>\"\u001b[1;36m, line \u001b[1;32m2\u001b[0m\n\u001b[1;33m    Print all the columns and the rows where 'area' is greater than 0, 'wind' is greater than 1 and the 'temp' is greater than 15.\u001b[0m\n\u001b[1;37m          ^\u001b[0m\n\u001b[1;31mSyntaxError\u001b[0m\u001b[1;31m:\u001b[0m invalid syntax\n"
     ]
    }
   ],
   "source": [
    "Description\n",
    "Print all the columns and the rows where 'area' is greater than 0, 'wind' is greater than 1 and the 'temp' is greater than 15."
   ]
  },
  {
   "cell_type": "code",
   "execution_count": 14,
   "metadata": {},
   "outputs": [
    {
     "name": "stdout",
     "output_type": "stream",
     "text": [
      "     X  Y month  day  FFMC    DMC     DC   ISI  temp  RH  wind  rain  area\n",
      "138  9  9   jul  tue  85.8   48.3  313.4   3.9  18.0  42   2.7   0.0  0.36\n",
      "139  1  4   sep  tue  91.0  129.5  692.6   7.0  21.7  38   2.2   0.0  0.43\n",
      "140  2  5   sep  mon  90.9  126.5  686.5   7.0  21.9  39   1.8   0.0  0.47\n",
      "141  1  2   aug  wed  95.5   99.9  513.3  13.2  23.3  31   4.5   0.0  0.55\n",
      "142  8  6   aug  fri  90.1  108.0  529.8  12.5  21.2  51   8.9   0.0  0.61\n",
      "143  1  2   jul  sat  90.0   51.3  296.3   8.7  16.6  53   5.4   0.0  0.71\n",
      "144  2  5   aug  wed  95.5   99.9  513.3  13.2  23.8  32   5.4   0.0  0.77\n",
      "145  6  5   aug  thu  95.2  131.7  578.8  10.4  27.4  22   4.0   0.0  0.90\n",
      "147  8  3   sep  tue  84.4   73.4  671.9   3.2  24.2  28   3.6   0.0  0.96\n",
      "148  2  2   aug  tue  94.8  108.3  647.1  17.0  17.4  43   6.7   0.0  1.07\n",
      "149  8  6   sep  thu  93.7   80.9  685.2  17.9  23.7  25   4.5   0.0  1.12\n",
      "150  6  5   jun  fri  92.5   56.4  433.3   7.1  23.2  39   5.4   0.0  1.19\n",
      "151  9  9   jul  sun  90.1   68.6  355.2   7.2  24.8  29   2.2   0.0  1.36\n",
      "152  3  4   jul  sat  90.1   51.2  424.1   6.2  24.6  43   1.8   0.0  1.43\n",
      "153  5  4   sep  fri  94.3   85.1  692.3  15.9  20.1  47   4.9   0.0  1.46\n",
      "154  1  5   sep  sat  93.4  145.4  721.4   8.1  29.6  27   2.7   0.0  1.46\n",
      "155  7  4   aug  sun  94.8  108.3  647.1  17.0  16.4  47   1.3   0.0  1.56\n",
      "156  2  4   sep  sat  93.4  145.4  721.4   8.1  28.6  27   2.2   0.0  1.61\n",
      "157  2  2   aug  wed  92.1  111.2  654.1   9.6  18.4  45   3.6   0.0  1.63\n",
      "158  2  4   aug  wed  92.1  111.2  654.1   9.6  20.5  35   4.0   0.0  1.64\n"
     ]
    }
   ],
   "source": [
    "import pandas as pd\n",
    "df = pd.read_csv('https://query.data.world/s/vBDCsoHCytUSLKkLvq851k2b8JOCkF')\n",
    "df_2 = df[(df['area']>0)&(df['wind']>1)&(df['temp']>15)]   #Type your code here.\n",
    "print(df_2.head(20))"
   ]
  },
  {
   "cell_type": "code",
   "execution_count": 15,
   "metadata": {},
   "outputs": [
    {
     "ename": "SyntaxError",
     "evalue": "invalid syntax (<ipython-input-15-bb0e191fc5a2>, line 2)",
     "output_type": "error",
     "traceback": [
      "\u001b[1;36m  File \u001b[1;32m\"<ipython-input-15-bb0e191fc5a2>\"\u001b[1;36m, line \u001b[1;32m2\u001b[0m\n\u001b[1;33m    You are provided with the dataset of a company which has offices across three cities - Mumbai, Bangalore and New Delhi. The dataset contains the rating (out of 5) of all the employees from different departments (Finance, HR, Marketing and Sales).\u001b[0m\n\u001b[1;37m        ^\u001b[0m\n\u001b[1;31mSyntaxError\u001b[0m\u001b[1;31m:\u001b[0m invalid syntax\n"
     ]
    }
   ],
   "source": [
    "Description\n",
    "You are provided with the dataset of a company which has offices across three cities - Mumbai, Bangalore and New Delhi. The dataset contains the rating (out of 5) of all the employees from different departments (Finance, HR, Marketing and Sales). \n",
    "\n",
    "\n",
    "\n",
    "The company has come up with a new policy that any individual with a rating equal to or below 3.5 needs to attend a training. Using dataframes, load the dataset and then derive the column ‘Training’ which shows ‘Yes’ for people who require training and ‘No’ for those who do not.\n",
    "\n",
    "\n",
    "\n",
    "Print the first 5 rows as the output. Refer to the image below for your reference.\n",
    "\n",
    "\n",
    "\n",
    "\n",
    "\n",
    "Note: You should not sort or modify values in other columns of the dataframe."
   ]
  },
  {
   "cell_type": "code",
   "execution_count": 16,
   "metadata": {},
   "outputs": [
    {
     "name": "stdout",
     "output_type": "stream",
     "text": [
      "67 (0, 5) (66, 5) (74, 5)\n"
     ]
    }
   ],
   "source": [
    "import numpy as np\n",
    "import pandas as pd\n",
    "\n",
    "# The file is stored at the following path:\n",
    "# 'https://media-doselect.s3.amazonaws.com/generic/NMgEjwkAEGGQZBoNYGr9Ld7w0/rating.csv'\n",
    "df = pd.read_csv('https://media-doselect.s3.amazonaws.com/generic/NMgEjwkAEGGQZBoNYGr9Ld7w0/rating.csv')\n",
    "df['Training']=df.Rating.apply(lambda x: 'Yes' if x<=3.5 else 'No')\n",
    "# Provide your answer below\n",
    "f=len(df[(df['Department'].isin(['Finance'])) & (df['Training']=='Yes')])\n",
    "g=df[(df['Department'].isin(['Hr'])) & (df['Training']=='Yes')].shape\n",
    "h=df[(df['Department'].isin(['Sales'])) & (df['Training']=='Yes')].shape\n",
    "i=df[(df['Department'].isin(['Marketing'])) & (df['Training']=='Yes')].shape\n",
    "print(f,g,h,i)"
   ]
  },
  {
   "cell_type": "code",
   "execution_count": 17,
   "metadata": {},
   "outputs": [
    {
     "ename": "SyntaxError",
     "evalue": "invalid syntax (<ipython-input-17-5951e20b5545>, line 2)",
     "output_type": "error",
     "traceback": [
      "\u001b[1;36m  File \u001b[1;32m\"<ipython-input-17-5951e20b5545>\"\u001b[1;36m, line \u001b[1;32m2\u001b[0m\n\u001b[1;33m    Group the dataframe 'df' by 'month' and 'day' and find the mean value for column 'rain' and 'wind'.\u001b[0m\n\u001b[1;37m          ^\u001b[0m\n\u001b[1;31mSyntaxError\u001b[0m\u001b[1;31m:\u001b[0m invalid syntax\n"
     ]
    }
   ],
   "source": [
    "Description\n",
    "Group the dataframe 'df' by 'month' and 'day' and find the mean value for column 'rain' and 'wind'."
   ]
  },
  {
   "cell_type": "code",
   "execution_count": 18,
   "metadata": {},
   "outputs": [
    {
     "ename": "SyntaxError",
     "evalue": "unexpected EOF while parsing (<ipython-input-18-9a88eb9506fd>, line 6)",
     "output_type": "error",
     "traceback": [
      "\u001b[1;36m  File \u001b[1;32m\"<ipython-input-18-9a88eb9506fd>\"\u001b[1;36m, line \u001b[1;32m6\u001b[0m\n\u001b[1;33m    print(df_1[['rain', 'wind']].head(20\u001b[0m\n\u001b[1;37m                                        ^\u001b[0m\n\u001b[1;31mSyntaxError\u001b[0m\u001b[1;31m:\u001b[0m unexpected EOF while parsing\n"
     ]
    }
   ],
   "source": [
    "import pandas as pd\n",
    "df = pd.read_csv('https://query.data.world/s/vBDCsoHCytUSLKkLvq851k2b8JOCkF')\n",
    "#Type your groupby command here\n",
    "df_1 = df.groupby(by=['month','day']).mean()\n",
    " #Type your code to find the mean of columns 'rain' and 'wind'\n",
    "print(df_1[['rain', 'wind']].head(20"
   ]
  },
  {
   "cell_type": "code",
   "execution_count": 19,
   "metadata": {},
   "outputs": [
    {
     "ename": "SyntaxError",
     "evalue": "invalid syntax (<ipython-input-19-3b28b34c4697>, line 2)",
     "output_type": "error",
     "traceback": [
      "\u001b[1;36m  File \u001b[1;32m\"<ipython-input-19-3b28b34c4697>\"\u001b[1;36m, line \u001b[1;32m2\u001b[0m\n\u001b[1;33m    Perform an inner merge on two data frames df_1 and df_2 on  'unique_id' and print the combined dataframe.\u001b[0m\n\u001b[1;37m            ^\u001b[0m\n\u001b[1;31mSyntaxError\u001b[0m\u001b[1;31m:\u001b[0m invalid syntax\n"
     ]
    }
   ],
   "source": [
    "Description\n",
    "Perform an inner merge on two data frames df_1 and df_2 on  'unique_id' and print the combined dataframe."
   ]
  },
  {
   "cell_type": "code",
   "execution_count": 20,
   "metadata": {},
   "outputs": [
    {
     "name": "stdout",
     "output_type": "stream",
     "text": [
      "                           name                     address              city  \\\n",
      "0     arnie morton's of chicago   \"435 s. la cienega blvd.\"     \"los angeles\"   \n",
      "1                    art's deli       \"12224 ventura blvd.\"     \"studio city\"   \n",
      "2                 bel-air hotel      \"701 stone canyon rd.\"         \"bel air\"   \n",
      "3                    cafe bizou       \"14016 ventura blvd.\"    \"sherman oaks\"   \n",
      "4                     campanile       \"624 s. la brea ave.\"     \"los angeles\"   \n",
      "5               chinois on main             \"2709 main st.\"    \"santa monica\"   \n",
      "6                        citrus         \"6703 melrose ave.\"     \"los angeles\"   \n",
      "7           fenix at the argyle         \"8358 sunset blvd.\"    \"w. hollywood\"   \n",
      "8                       granita       \"23725 w. malibu rd.\"          \"malibu\"   \n",
      "9                    grill  the           \"9560 dayton way\"   \"beverly hills\"   \n",
      "10                        katsu       \"1972 hillhurst ave.\"       \"los feliz\"   \n",
      "11                  l'orangerie   \"903 n. la cienega blvd.\"    \"w. hollywood\"   \n",
      "12  le chardonnay (los angeles)         \"8284 melrose ave.\"     \"los angeles\"   \n",
      "13               locanda veneta         \"8638 w. third st.\"     \"los angeles\"   \n",
      "14                    matsuhisa   \"129 n. la cienega blvd.\"   \"beverly hills\"   \n",
      "15      palm  the (los angeles)   \"9001 santa monica blvd.\"    \"w. hollywood\"   \n",
      "16                       patina         \"5955 melrose ave.\"     \"los angeles\"   \n",
      "17        philippe the original       \"1001 n. alameda st.\"       \"chinatown\"   \n",
      "18                 pinot bistro       \"12969 ventura blvd.\"     \"studio city\"   \n",
      "19            rex il ristorante          \"617 s. olive st.\"     \"los angeles\"   \n",
      "\n",
      "                      cuisine unique_id                     name_2  \\\n",
      "0               \"steakhouses\"       '0'  arnie morton's of chicago   \n",
      "1                     \"delis\"       '1'         art's delicatessen   \n",
      "2               \"californian\"       '2'              hotel bel-air   \n",
      "3             \"french bistro\"       '3'                 cafe bizou   \n",
      "4               \"californian\"       '4'                  campanile   \n",
      "5          \"pacific new wave\"       '5'            chinois on main   \n",
      "6               \"californian\"       '6'                     citrus   \n",
      "7              \"french (new)\"       '7'                      fenix   \n",
      "8               \"californian\"       '8'                    granita   \n",
      "9    \"american (traditional)\"       '9'         grill on the alley   \n",
      "10                 \"japanese\"      '10'           restaurant katsu   \n",
      "11         \"french (classic)\"      '11'                l'orangerie   \n",
      "12            \"french bistro\"      '12'              le chardonnay   \n",
      "13                  \"italian\"      '13'             locanda veneta   \n",
      "14                  \"seafood\"      '14'                  matsuhisa   \n",
      "15              \"steakhouses\"      '15'                   the palm   \n",
      "16              \"californian\"      '16'                     patina   \n",
      "17               \"cafeterias\"      '17'    philippe's the original   \n",
      "18            \"french bistro\"      '18'               pinot bistro   \n",
      "19     \"nuova cucina italian\"      '19'          rex il ristorante   \n",
      "\n",
      "                     address_2            city_2       cuisine_2  \n",
      "0     \"435 s. la cienega blv.\"     \"los angeles\"      \"american\"  \n",
      "1        \"12224 ventura blvd.\"     \"studio city\"      \"american\"  \n",
      "2       \"701 stone canyon rd.\"         \"bel air\"   \"californian\"  \n",
      "3        \"14016 ventura blvd.\"    \"sherman oaks\"        \"french\"  \n",
      "4        \"624 s. la brea ave.\"     \"los angeles\"      \"american\"  \n",
      "5              \"2709 main st.\"    \"santa monica\"        \"french\"  \n",
      "6          \"6703 melrose ave.\"     \"los angeles\"   \"californian\"  \n",
      "7     \"8358 sunset blvd. west\"       \"hollywood\"      \"american\"  \n",
      "8        \"23725 w. malibu rd.\"          \"malibu\"   \"californian\"  \n",
      "9            \"9560 dayton way\"     \"los angeles\"      \"american\"  \n",
      "10    \"1972 n. hillhurst ave.\"     \"los angeles\"         \"asian\"  \n",
      "11   \"903 n. la cienega blvd.\"     \"los angeles\"        \"french\"  \n",
      "12         \"8284 melrose ave.\"     \"los angeles\"        \"french\"  \n",
      "13                   \"3rd st.\"     \"los angeles\"       \"italian\"  \n",
      "14   \"129 n. la cienega blvd.\"   \"beverly hills\"         \"asian\"  \n",
      "15   \"9001 santa monica blvd.\"     \"los angeles\"      \"american\"  \n",
      "16         \"5955 melrose ave.\"     \"los angeles\"   \"californian\"  \n",
      "17       \"1001 n. alameda st.\"     \"los angeles\"      \"american\"  \n",
      "18       \"12969 ventura blvd.\"     \"los angeles\"        \"french\"  \n",
      "19          \"617 s. olive st.\"     \"los angeles\"       \"italian\"  \n"
     ]
    }
   ],
   "source": [
    "import pandas as pd\n",
    "df_1 = pd.read_csv('https://query.data.world/s/vv3snq28bp0TJq2ggCdxGOghEQKPZo')\n",
    "df_2 = pd.read_csv('https://query.data.world/s/9wVKjNT0yiRc3YbVJaiI8a6HGl2d74')\n",
    "df_3 = df_1.merge(df_2, how = 'inner') #Type your code here.\n",
    "print(df_3.head(20))"
   ]
  },
  {
   "cell_type": "code",
   "execution_count": 21,
   "metadata": {},
   "outputs": [
    {
     "ename": "SyntaxError",
     "evalue": "invalid syntax (<ipython-input-21-094e450763b5>, line 1)",
     "output_type": "error",
     "traceback": [
      "\u001b[1;36m  File \u001b[1;32m\"<ipython-input-21-094e450763b5>\"\u001b[1;36m, line \u001b[1;32m1\u001b[0m\n\u001b[1;33m    Dataframe Append\u001b[0m\n\u001b[1;37m              ^\u001b[0m\n\u001b[1;31mSyntaxError\u001b[0m\u001b[1;31m:\u001b[0m invalid syntax\n"
     ]
    }
   ],
   "source": [
    "Dataframe Append\n",
    "Description\n",
    "Append two datasets df_1 and df_2, and print the combined dataframe."
   ]
  },
  {
   "cell_type": "code",
   "execution_count": 22,
   "metadata": {},
   "outputs": [
    {
     "name": "stdout",
     "output_type": "stream",
     "text": [
      "                        name                     address             city  \\\n",
      "0  arnie morton's of chicago   \"435 s. la cienega blvd.\"    \"los angeles\"   \n",
      "1                 art's deli       \"12224 ventura blvd.\"    \"studio city\"   \n",
      "2              bel-air hotel      \"701 stone canyon rd.\"        \"bel air\"   \n",
      "3                 cafe bizou       \"14016 ventura blvd.\"   \"sherman oaks\"   \n",
      "4                  campanile       \"624 s. la brea ave.\"    \"los angeles\"   \n",
      "\n",
      "            cuisine unique_id name_2 address_2 city_2 cuisine_2  \n",
      "0     \"steakhouses\"       '0'    NaN       NaN    NaN       NaN  \n",
      "1           \"delis\"       '1'    NaN       NaN    NaN       NaN  \n",
      "2     \"californian\"       '2'    NaN       NaN    NaN       NaN  \n",
      "3   \"french bistro\"       '3'    NaN       NaN    NaN       NaN  \n",
      "4     \"californian\"       '4'    NaN       NaN    NaN       NaN  \n"
     ]
    }
   ],
   "source": [
    "# Suppressing warnings\n",
    "import warnings\n",
    "warnings.simplefilter(\"ignore\")\n",
    "\n",
    "import pandas as pd\n",
    "df_1 = pd.read_csv('https://query.data.world/s/vv3snq28bp0TJq2ggCdxGOghEQKPZo')\n",
    "df_2 = pd.read_csv('https://query.data.world/s/9wVKjNT0yiRc3YbVJaiI8a6HGl2d74')\n",
    "df_3 =pd.concat([df_1,df_2], axis=0 )#Type your code here.\n",
    "\n",
    "print(df_3.head())"
   ]
  },
  {
   "cell_type": "code",
   "execution_count": 23,
   "metadata": {},
   "outputs": [
    {
     "ename": "SyntaxError",
     "evalue": "invalid syntax (<ipython-input-23-6a0f588d2983>, line 2)",
     "output_type": "error",
     "traceback": [
      "\u001b[1;36m  File \u001b[1;32m\"<ipython-input-23-6a0f588d2983>\"\u001b[1;36m, line \u001b[1;32m2\u001b[0m\n\u001b[1;33m    Given three data frames containing the number of gold, silver, and bronze Olympic medals won by some countries, determine the total number of medals won by each country.\u001b[0m\n\u001b[1;37m          ^\u001b[0m\n\u001b[1;31mSyntaxError\u001b[0m\u001b[1;31m:\u001b[0m invalid syntax\n"
     ]
    }
   ],
   "source": [
    "Description\n",
    "Given three data frames containing the number of gold, silver, and bronze Olympic medals won by some countries, determine the total number of medals won by each country. \n",
    "\n",
    "Note: All three data frames don’t have all the same countries. So, ensure you use the ‘fill_value’ argument (set it to zero), to avoid getting NaN values. Also, ensure you sort the final data frame, according to the total medal count in descending order. Make sure that the results are in integers."
   ]
  },
  {
   "cell_type": "code",
   "execution_count": 24,
   "metadata": {},
   "outputs": [
    {
     "name": "stdout",
     "output_type": "stream",
     "text": [
      "         Medals\n",
      "Country        \n",
      "USA          72\n",
      "France       53\n",
      "UK           27\n",
      "Russia       25\n",
      "Germany      20\n"
     ]
    }
   ],
   "source": [
    "import numpy as np \n",
    "import pandas as pd\n",
    "\n",
    "# Defining the three dataframes indicating the gold, silver, and bronze medal counts\n",
    "# of different countries\n",
    "gold = pd.DataFrame({'Country': ['USA', 'France', 'Russia'],\n",
    "                         'Medals': [15, 13, 9]}\n",
    "                    )\n",
    "silver = pd.DataFrame({'Country': ['USA', 'Germany', 'Russia'],\n",
    "                        'Medals': [29, 20, 16]}\n",
    "                    )\n",
    "bronze = pd.DataFrame({'Country': ['France', 'USA', 'UK'],\n",
    "                        'Medals': [40, 28, 27]}\n",
    "                    )\n",
    "gold=gold.set_index(['Country'])\n",
    "silver=silver.set_index(['Country'])\n",
    "bronze=bronze.set_index(['Country'])\n",
    "a=gold.add(silver, axis=0, fill_value=0).add(bronze, axis=0, fill_value=0).astype(int)\n",
    "print(a.sort_values(by=['Medals'], ascending=False))"
   ]
  },
  {
   "cell_type": "code",
   "execution_count": 25,
   "metadata": {},
   "outputs": [
    {
     "ename": "SyntaxError",
     "evalue": "invalid syntax (<ipython-input-25-a3648df3b450>, line 2)",
     "output_type": "error",
     "traceback": [
      "\u001b[1;36m  File \u001b[1;32m\"<ipython-input-25-a3648df3b450>\"\u001b[1;36m, line \u001b[1;32m2\u001b[0m\n\u001b[1;33m    Group the data 'df' by 'month' and 'day' and find the mean value for column 'rain' and 'wind' using the pivot table command.\u001b[0m\n\u001b[1;37m          ^\u001b[0m\n\u001b[1;31mSyntaxError\u001b[0m\u001b[1;31m:\u001b[0m invalid syntax\n"
     ]
    }
   ],
   "source": [
    "Description\n",
    "Group the data 'df' by 'month' and 'day' and find the mean value for column 'rain' and 'wind' using the pivot table command."
   ]
  },
  {
   "cell_type": "code",
   "execution_count": 26,
   "metadata": {},
   "outputs": [
    {
     "name": "stdout",
     "output_type": "stream",
     "text": [
      "               rain      wind\n",
      "month day                    \n",
      "apr   fri  0.000000  3.100000\n",
      "      mon  0.000000  3.100000\n",
      "      sat  0.000000  4.500000\n",
      "      sun  0.000000  5.666667\n",
      "      thu  0.000000  5.800000\n",
      "      wed  0.000000  2.700000\n",
      "aug   fri  0.066667  4.766667\n",
      "      mon  0.000000  2.873333\n",
      "      sat  0.000000  4.310345\n",
      "      sun  0.025000  4.417500\n",
      "      thu  0.000000  3.503846\n",
      "      tue  0.300000  4.567857\n",
      "      wed  0.000000  3.520000\n",
      "dec   fri  0.000000  4.900000\n",
      "      mon  0.000000  8.500000\n",
      "      sun  0.000000  8.500000\n",
      "      thu  0.000000  4.900000\n",
      "      tue  0.000000  8.500000\n",
      "      wed  0.000000  8.000000\n",
      "feb   fri  0.000000  4.820000\n"
     ]
    }
   ],
   "source": [
    "import numpy as np\n",
    "import pandas as pd\n",
    "df = pd.read_csv('https://query.data.world/s/vBDCsoHCytUSLKkLvq851k2b8JOCkF')\n",
    "df_1 = df.groupby( by=['month', 'day']).mean() \n",
    "\n",
    "print(df_1[['rain', 'wind']].head(20))"
   ]
  },
  {
   "cell_type": "code",
   "execution_count": null,
   "metadata": {},
   "outputs": [],
   "source": []
  }
 ],
 "metadata": {
  "kernelspec": {
   "display_name": "Python 3",
   "language": "python",
   "name": "python3"
  },
  "language_info": {
   "codemirror_mode": {
    "name": "ipython",
    "version": 3
   },
   "file_extension": ".py",
   "mimetype": "text/x-python",
   "name": "python",
   "nbconvert_exporter": "python",
   "pygments_lexer": "ipython3",
   "version": "3.8.5"
  }
 },
 "nbformat": 4,
 "nbformat_minor": 4
}
