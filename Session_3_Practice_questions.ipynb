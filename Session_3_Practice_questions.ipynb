{
 "cells": [
  {
   "cell_type": "markdown",
   "metadata": {
    "colab_type": "text",
    "id": "oHccLE5Adigd"
   },
   "source": [
    "# Control Structures"
   ]
  },
  {
   "cell_type": "markdown",
   "metadata": {
    "colab_type": "text",
    "id": "qp1r-3XTdigg"
   },
   "source": [
    "### Question \n",
    "\n",
    "\n",
    "A word is said to belong to the red team if it has the letter r in it.\n",
    "Write an 'if' statement to check whether the given word belongs to the red team or not.\n"
   ]
  },
  {
   "cell_type": "code",
   "execution_count": 7,
   "metadata": {
    "colab": {},
    "colab_type": "code",
    "id": "dKtFKt-Rdigi",
    "outputId": "be7c23b4-de2f-46dd-c04b-57eefb207b3c"
   },
   "outputs": [
    {
     "name": "stdout",
     "output_type": "stream",
     "text": [
      "input word: hsyn r\n",
      "not red team\n"
     ]
    }
   ],
   "source": [
    "# write code here\n",
    "a= input(\"input word: \")\n",
    "for i in a:\n",
    "    if i!= \"r\":\n",
    "        print(\"not red team\")\n",
    "        break\n",
    "    else:\n",
    "        print(\"red team\")\n",
    "        break"
   ]
  },
  {
   "cell_type": "markdown",
   "metadata": {
    "colab_type": "text",
    "id": "IWcRXMZRdigp"
   },
   "source": [
    "### Question \n",
    "\n",
    "In continuation to previous example, if the word has the letter 'b', it belongs to the blue team. And if the word has both 'r' and 'b' then first letter gets a precedence. And if the word does not have the letter 'r' or 'b', it does not belong to any team. \n",
    "######Example: (word,output)                \n",
    "*   rabbit = red team\n",
    "*   brand =  blue team\n",
    "*   dog   =  no team\n",
    "\n",
    "\n",
    "Write a condition for this decision. \n"
   ]
  },
  {
   "cell_type": "code",
   "execution_count": 13,
   "metadata": {
    "colab": {},
    "colab_type": "code",
    "id": "YsuN3HUcdigr",
    "outputId": "6489f091-cf54-4c3c-ab4d-4f961356860e"
   },
   "outputs": [
    {
     "name": "stdout",
     "output_type": "stream",
     "text": [
      "input word: bhre\n",
      "blue team\n"
     ]
    }
   ],
   "source": [
    "# write code here \n",
    "\n",
    "a= input(\"input word: \")\n",
    "for i in a:\n",
    "    if i==\"r\":\n",
    "        print(\"red team\")\n",
    "        break\n",
    "    elif i==\"b\":\n",
    "        print(\"blue team\")\n",
    "        break\n",
    "    else:\n",
    "        print(\"no team\")\n",
    "        break\n",
    "\n",
    "\n",
    "# you might want to consider if statement inside a for loop"
   ]
  },
  {
   "cell_type": "markdown",
   "metadata": {
    "colab_type": "text",
    "id": "H6pFkWTjdig0"
   },
   "source": [
    "### Question \n",
    "\n",
    "Write a program to print all the numbers which are divisible by 17 between 1 and a given number 'n'. "
   ]
  },
  {
   "cell_type": "code",
   "execution_count": 19,
   "metadata": {
    "colab": {},
    "colab_type": "code",
    "id": "Fs4AaO-wdig1",
    "outputId": "8c008e24-75d6-41a2-988e-771fb0d84ec4"
   },
   "outputs": [
    {
     "name": "stdout",
     "output_type": "stream",
     "text": [
      "100\n",
      "not divisibal by 17 1\n",
      "not divisibal by 17 2\n",
      "not divisibal by 17 3\n",
      "not divisibal by 17 4\n",
      "not divisibal by 17 5\n",
      "not divisibal by 17 6\n",
      "not divisibal by 17 7\n",
      "not divisibal by 17 8\n",
      "not divisibal by 17 9\n",
      "not divisibal by 17 10\n",
      "not divisibal by 17 11\n",
      "not divisibal by 17 12\n",
      "not divisibal by 17 13\n",
      "not divisibal by 17 14\n",
      "not divisibal by 17 15\n",
      "not divisibal by 17 16\n",
      "divisibal by 17 17\n",
      "not divisibal by 17 18\n",
      "not divisibal by 17 19\n",
      "not divisibal by 17 20\n",
      "not divisibal by 17 21\n",
      "not divisibal by 17 22\n",
      "not divisibal by 17 23\n",
      "not divisibal by 17 24\n",
      "not divisibal by 17 25\n",
      "not divisibal by 17 26\n",
      "not divisibal by 17 27\n",
      "not divisibal by 17 28\n",
      "not divisibal by 17 29\n",
      "not divisibal by 17 30\n",
      "not divisibal by 17 31\n",
      "not divisibal by 17 32\n",
      "not divisibal by 17 33\n",
      "divisibal by 17 34\n",
      "not divisibal by 17 35\n",
      "not divisibal by 17 36\n",
      "not divisibal by 17 37\n",
      "not divisibal by 17 38\n",
      "not divisibal by 17 39\n",
      "not divisibal by 17 40\n",
      "not divisibal by 17 41\n",
      "not divisibal by 17 42\n",
      "not divisibal by 17 43\n",
      "not divisibal by 17 44\n",
      "not divisibal by 17 45\n",
      "not divisibal by 17 46\n",
      "not divisibal by 17 47\n",
      "not divisibal by 17 48\n",
      "not divisibal by 17 49\n",
      "not divisibal by 17 50\n",
      "divisibal by 17 51\n",
      "not divisibal by 17 52\n",
      "not divisibal by 17 53\n",
      "not divisibal by 17 54\n",
      "not divisibal by 17 55\n",
      "not divisibal by 17 56\n",
      "not divisibal by 17 57\n",
      "not divisibal by 17 58\n",
      "not divisibal by 17 59\n",
      "not divisibal by 17 60\n",
      "not divisibal by 17 61\n",
      "not divisibal by 17 62\n",
      "not divisibal by 17 63\n",
      "not divisibal by 17 64\n",
      "not divisibal by 17 65\n",
      "not divisibal by 17 66\n",
      "not divisibal by 17 67\n",
      "divisibal by 17 68\n",
      "not divisibal by 17 69\n",
      "not divisibal by 17 70\n",
      "not divisibal by 17 71\n",
      "not divisibal by 17 72\n",
      "not divisibal by 17 73\n",
      "not divisibal by 17 74\n",
      "not divisibal by 17 75\n",
      "not divisibal by 17 76\n",
      "not divisibal by 17 77\n",
      "not divisibal by 17 78\n",
      "not divisibal by 17 79\n",
      "not divisibal by 17 80\n",
      "not divisibal by 17 81\n",
      "not divisibal by 17 82\n",
      "not divisibal by 17 83\n",
      "not divisibal by 17 84\n",
      "divisibal by 17 85\n",
      "not divisibal by 17 86\n",
      "not divisibal by 17 87\n",
      "not divisibal by 17 88\n",
      "not divisibal by 17 89\n",
      "not divisibal by 17 90\n",
      "not divisibal by 17 91\n",
      "not divisibal by 17 92\n",
      "not divisibal by 17 93\n",
      "not divisibal by 17 94\n",
      "not divisibal by 17 95\n",
      "not divisibal by 17 96\n",
      "not divisibal by 17 97\n",
      "not divisibal by 17 98\n",
      "not divisibal by 17 99\n"
     ]
    }
   ],
   "source": [
    "n=int(input())\n",
    "\n",
    "for i in range(1,n):\n",
    "    if i%17==0:\n",
    "        print(\"divisibal by 17\", i)\n",
    "    else:\n",
    "        print(\"not divisibal by 17\", i)"
   ]
  },
  {
   "cell_type": "markdown",
   "metadata": {
    "colab_type": "text",
    "id": "0YmgmJr0dig7"
   },
   "source": [
    "### Question\n",
    "\n",
    "Write a program to add 13 to all the elements of a given numeric list. \n",
    "######Example - \n",
    "* Input list = [1,5,27] \n",
    "* Output list = [14,18,40]"
   ]
  },
  {
   "cell_type": "code",
   "execution_count": 23,
   "metadata": {
    "colab": {},
    "colab_type": "code",
    "id": "Sc9YRB7gdig8",
    "outputId": "eddb0ff1-5134-4c9e-b07c-0f1e75a312e9"
   },
   "outputs": [
    {
     "name": "stdout",
     "output_type": "stream",
     "text": [
      "[19, 111, 47, 58, 77, 20, 15, 18, 91, 103, 337, 124, 670, 451]\n"
     ]
    }
   ],
   "source": [
    "sample_list = [6, 98, 34, 45, 64, 7, 2, 5, 78, 90, 324, 111, 657, 438]\n",
    "\n",
    "# Write solution code here\n",
    "q=[i+13 for i in sample_list]\n",
    "print(q)\n"
   ]
  },
  {
   "cell_type": "markdown",
   "metadata": {
    "colab_type": "text",
    "id": "Ab9mZZGedihF"
   },
   "source": [
    "### Question\n",
    "\n",
    "In continuation to the example above, execute the same operation on the same sample list using list comprihension."
   ]
  },
  {
   "cell_type": "code",
   "execution_count": null,
   "metadata": {
    "colab": {},
    "colab_type": "code",
    "id": "DfkYlSQxdihG",
    "outputId": "7dc9cd8c-365e-4b8c-f9a2-59ea773784f9"
   },
   "outputs": [
    {
     "data": {
      "text/plain": [
       "[19, 111, 47, 58, 77, 20, 15, 18, 91, 103, 337, 124, 670, 451]"
      ]
     },
     "execution_count": 5,
     "metadata": {
      "tags": []
     },
     "output_type": "execute_result"
    }
   ],
   "source": []
  },
  {
   "cell_type": "markdown",
   "metadata": {
    "colab_type": "text",
    "id": "3Y8sulULdihN"
   },
   "source": [
    "### Question \n",
    "This question has two tasks:\n",
    "* Task 1 - Find the factors of all the numbers in a given list. \n",
    "* Task 2 - Add the numbers and their factors to a dictionary where the key will be the numbers from the list, and the values will be the factors of the respective number. \n",
    "\n",
    "Example - \n",
    "##### Sample output :\n",
    "#####{6: [1, 2, 3, 6],\n",
    "98: [1, 2, 7, 14, 49, 98],\n",
    "##### 34: [1, 2, 17, 34],}"
   ]
  },
  {
   "cell_type": "code",
   "execution_count": 48,
   "metadata": {
    "colab": {},
    "colab_type": "code",
    "id": "HYZcnkcMdihO",
    "outputId": "d6705fc6-88c0-4c44-d710-f6b28a109ddf"
   },
   "outputs": [
    {
     "name": "stdout",
     "output_type": "stream",
     "text": [
      "{6: [1, 2, 3, 6]}\n",
      "{98: [1, 2, 7, 14, 49, 98]}\n",
      "{34: [1, 2, 17, 34]}\n",
      "{45: [1, 3, 5, 9, 15, 45]}\n",
      "{64: [1, 2, 4, 8, 16, 32, 64]}\n",
      "{7: [1, 7]}\n",
      "{2: [1, 2]}\n",
      "{5: [1, 5]}\n",
      "{78: [1, 2, 3, 6, 13, 26, 39, 78]}\n",
      "{90: [1, 2, 3, 5, 6, 9, 10, 15, 18, 30, 45, 90]}\n",
      "{324: [1, 2, 3, 4, 6, 9, 12, 18, 27, 36, 54, 81, 108, 162, 324]}\n",
      "{111: [1, 3, 37, 111]}\n",
      "{657: [1, 3, 9, 73, 219, 657]}\n",
      "{438: [1, 2, 3, 6, 73, 146, 219, 438]}\n"
     ]
    }
   ],
   "source": [
    "sample_list = [6,98, 34, 45, 64, 7, 2, 5, 78, 90, 324, 111, 657, 438]\n",
    "\n",
    "# write code here \n",
    "\n",
    "for i in sample_list:\n",
    "    a=[j for j in range(1,i+1)if i%j==0]\n",
    "    q={i:a}\n",
    "    print(q)\n",
    "        \n"
   ]
  },
  {
   "cell_type": "markdown",
   "metadata": {
    "colab_type": "text",
    "id": "a4ii6VRodihT"
   },
   "source": [
    "### Question \n",
    "\n",
    "Count the total number of unique characters in a given sentence. \n",
    "#####Example - \n",
    "* Input - 'total'\n",
    "* Output  - 'o', 'a', 'l'"
   ]
  },
  {
   "cell_type": "code",
   "execution_count": 52,
   "metadata": {
    "colab": {},
    "colab_type": "code",
    "id": "LZP7Dis7dihU",
    "outputId": "0f2a2a63-b4ad-402c-cd9f-96b3322031fb"
   },
   "outputs": [
    {
     "name": "stdout",
     "output_type": "stream",
     "text": [
      "{'l', 's', 'w', 'y', 'z', 'v', 'r', 'g', 'a', 'o', 'd', 'k', 'f', 'q', 'i', 'h', 'b', 'x', 'm', 't', 'u', 'n', 'c', 'e', 'j'}\n",
      "25\n"
     ]
    }
   ],
   "source": [
    "sample_sentence = \"Pack my box with five dozen liquor jugs\"\n",
    " \n",
    "# write code here \n",
    "q={i for i in sample_sentence if i in \"abcdefghijklmnopqrstuvwxyz\"}\n",
    "print(q)\n",
    "print(len(q))\n",
    "        \n"
   ]
  },
  {
   "cell_type": "markdown",
   "metadata": {
    "colab_type": "text",
    "id": "yZcGvRkJdihY"
   },
   "source": [
    "### Question \n",
    "\n",
    "Write a calculator application using functions, which will ask for the users input such as - arithmetic operation, number1, number 2, and return the output post applying the arithmetic operator\n",
    "\n",
    "#####Example - \n",
    "\n",
    "\n",
    "```\n",
    "def calc(operation, x,y):\n",
    "    if operation == \"add\":\n",
    "        return x+y\n",
    "```\n",
    "\n"
   ]
  },
  {
   "cell_type": "code",
   "execution_count": 57,
   "metadata": {
    "colab": {},
    "colab_type": "code",
    "id": "-z3qD-7odihY"
   },
   "outputs": [
    {
     "data": {
      "text/plain": [
       "10"
      ]
     },
     "execution_count": 57,
     "metadata": {},
     "output_type": "execute_result"
    }
   ],
   "source": [
    "# use functions to write this code\n",
    "def calc(operation, x,y):\n",
    "    if operation == \"add\":\n",
    "        return x+y\n",
    "    if operation == \"sub\":\n",
    "        return x-y\n",
    "    if operation == \"mul\":\n",
    "        return x*y\n",
    "    if operation == \"div\":\n",
    "        return x/y\n",
    "    if operation == \"mod\":\n",
    "        return x%y\n",
    "    \n",
    "calc(\"mod\", 10,20)"
   ]
  },
  {
   "cell_type": "markdown",
   "metadata": {
    "colab_type": "text",
    "id": "mbmuzRQxdihc"
   },
   "source": [
    "### Question \n",
    "\n",
    "Write a code to ask the user to input three numbers and then print the largest one among the three. "
   ]
  },
  {
   "cell_type": "code",
   "execution_count": 65,
   "metadata": {
    "colab": {},
    "colab_type": "code",
    "id": "7zsJv1_-dihd",
    "outputId": "5e677bf1-6cb2-4394-ceff-c2017c2814b5"
   },
   "outputs": [
    {
     "name": "stdout",
     "output_type": "stream",
     "text": [
      "7\n",
      "6\n",
      "9\n",
      "greater 9\n"
     ]
    }
   ],
   "source": [
    "# You might want to use nested if statements \n",
    "a=int(input())\n",
    "b=int(input())\n",
    "c=int(input())\n",
    "\n",
    "if a>b & a>c:\n",
    "    print(\"greater\", a)\n",
    "elif b>c:\n",
    "    print(\"greater\", b)\n",
    "else:\n",
    "    print(\"greater\", c)"
   ]
  },
  {
   "cell_type": "markdown",
   "metadata": {
    "colab_type": "text",
    "id": "I5v7ARWPdihi"
   },
   "source": [
    "### Question\n",
    "\n",
    "Check whether a number is perfect or not. \n",
    "\n",
    "A perfect number is a number that is sum of all of its positive divisors (excluding itself).\n",
    "For more info refer to this link - https://www.geeksforgeeks.org/perfect-number/"
   ]
  },
  {
   "cell_type": "code",
   "execution_count": 102,
   "metadata": {
    "colab": {},
    "colab_type": "code",
    "id": "L3CXSHwPdihj",
    "outputId": "088bbad4-9ee4-42d2-f12e-c73d79a26f00"
   },
   "outputs": [
    {
     "name": "stdout",
     "output_type": "stream",
     "text": [
      "496\n",
      "perfect number 496\n"
     ]
    }
   ],
   "source": [
    "a=int(input())\n",
    "b=0\n",
    "for i in range(1,a):\n",
    "    if a%i==0:\n",
    "        b+=i\n",
    "if b==a:\n",
    "    print(\"perfect number\", b)\n",
    "else:\n",
    "    print(\"not a perfect number\")"
   ]
  },
  {
   "cell_type": "markdown",
   "metadata": {
    "colab_type": "text",
    "id": "Wa6HOu8Adihr"
   },
   "source": [
    "### Question \n",
    "\n",
    "Add the elements in the two given lists using map and lambda functions"
   ]
  },
  {
   "cell_type": "code",
   "execution_count": 68,
   "metadata": {
    "colab": {},
    "colab_type": "code",
    "id": "bJMyQdIwdihs"
   },
   "outputs": [
    {
     "name": "stdout",
     "output_type": "stream",
     "text": [
      "['Ankur Narang', 'Avik Sarkar', 'Kiran R', 'Nitin Sareen']\n"
     ]
    }
   ],
   "source": [
    "list1 = ['Ankur','Avik','Kiran','Nitin']\n",
    "list2 = ['Narang','Sarkar','R','Sareen']\n",
    "\n",
    "# write code here \n",
    "a=list(map(lambda x,y:x+\" \" +y,list1,list2))\n",
    "print(a)"
   ]
  },
  {
   "cell_type": "markdown",
   "metadata": {
    "colab_type": "text",
    "id": "u1POTJjedihw"
   },
   "source": [
    "### Question \n",
    "\n",
    "Write a code to find the factorial of a number using reduce function. \n",
    "#####Example -\n",
    " 5!= 5 * 4 * 3 * 2 * 1=120."
   ]
  },
  {
   "cell_type": "code",
   "execution_count": 108,
   "metadata": {
    "colab": {},
    "colab_type": "code",
    "id": "BKxpeFbFdihx",
    "outputId": "f3a39752-aa16-4904-f5b4-d82c5950fed3"
   },
   "outputs": [
    {
     "name": "stdout",
     "output_type": "stream",
     "text": [
      "6\n",
      "720\n"
     ]
    }
   ],
   "source": [
    "a=int(input())\n",
    "b=1\n",
    "for i in range(1,a+1):\n",
    "        b*=i\n",
    "print(b)"
   ]
  },
  {
   "cell_type": "code",
   "execution_count": null,
   "metadata": {},
   "outputs": [],
   "source": []
  }
 ],
 "metadata": {
  "colab": {
   "collapsed_sections": [],
   "name": "Session 3 Practice questions (2).ipynb",
   "provenance": []
  },
  "kernelspec": {
   "display_name": "Python 3",
   "language": "python",
   "name": "python3"
  },
  "language_info": {
   "codemirror_mode": {
    "name": "ipython",
    "version": 3
   },
   "file_extension": ".py",
   "mimetype": "text/x-python",
   "name": "python",
   "nbconvert_exporter": "python",
   "pygments_lexer": "ipython3",
   "version": "3.8.5"
  }
 },
 "nbformat": 4,
 "nbformat_minor": 1
}
