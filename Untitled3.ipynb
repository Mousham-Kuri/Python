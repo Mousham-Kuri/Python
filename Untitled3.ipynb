{
 "cells": [
  {
   "cell_type": "code",
   "execution_count": 1,
   "metadata": {},
   "outputs": [
    {
     "ename": "NameError",
     "evalue": "name 'shoppinng_total' is not defined",
     "output_type": "error",
     "traceback": [
      "\u001b[1;31m---------------------------------------------------------------------------\u001b[0m",
      "\u001b[1;31mNameError\u001b[0m                                 Traceback (most recent call last)",
      "\u001b[1;32m<ipython-input-1-6e8e31e7465f>\u001b[0m in \u001b[0;36m<module>\u001b[1;34m\u001b[0m\n\u001b[0;32m      1\u001b[0m \u001b[0mhoppinng_total\u001b[0m \u001b[1;33m=\u001b[0m \u001b[1;36m550\u001b[0m\u001b[1;33m\u001b[0m\u001b[1;33m\u001b[0m\u001b[0m\n\u001b[0;32m      2\u001b[0m \u001b[1;33m\u001b[0m\u001b[0m\n\u001b[1;32m----> 3\u001b[1;33m \u001b[1;32mif\u001b[0m \u001b[0mshoppinng_total\u001b[0m \u001b[1;33m>=\u001b[0m \u001b[1;36m500\u001b[0m\u001b[1;33m:\u001b[0m\u001b[1;33m\u001b[0m\u001b[1;33m\u001b[0m\u001b[0m\n\u001b[0m\u001b[0;32m      4\u001b[0m     \u001b[0mprint\u001b[0m\u001b[1;33m(\u001b[0m\u001b[1;34m\"You won a discount voucher of flat 1000 on next purchase\"\u001b[0m\u001b[1;33m)\u001b[0m\u001b[1;33m\u001b[0m\u001b[1;33m\u001b[0m\u001b[0m\n\u001b[0;32m      5\u001b[0m \u001b[1;32melif\u001b[0m \u001b[0mshoppinng_total\u001b[0m \u001b[1;33m>=\u001b[0m \u001b[1;36m250\u001b[0m\u001b[1;33m:\u001b[0m\u001b[1;33m\u001b[0m\u001b[1;33m\u001b[0m\u001b[0m\n",
      "\u001b[1;31mNameError\u001b[0m: name 'shoppinng_total' is not defined"
     ]
    }
   ],
   "source": [
    "hoppinng_total = 550\n",
    "\n",
    "if shoppinng_total >= 500:\n",
    "    print(\"You won a discount voucher of flat 1000 on next purchase\")\n",
    "elif shoppinng_total >= 250:\n",
    "    print(\"You won a discount voucher of flat 500 on next purchase\")\n",
    "elif shoppinng_total >= 100:\n",
    "    print(\"You won a discount voucher of flat 100 on next purchase\")    \n",
    "else:\n",
    "    print(\"OOPS!! no discount for you!!!\")"
   ]
  },
  {
   "cell_type": "code",
   "execution_count": null,
   "metadata": {},
   "outputs": [],
   "source": [
    "world_cups = {2019 : ['England', 'New Zealand'], 2015:[\"Australia\", \"New Zealand\"], 2011 : [\"India\", \"Sri Lanka\"], 2007: [\"Australia\", \"Sri Lanka\"], 2003: [\"Australia\", \"India\"]}\n",
    "\n",
    "year = int(input(\"Enter year to check New Zealand made it to Finals in 20th century : \"))\n",
    "\n",
    "if year in world_cups :\n",
    "    if \"New Zealand\" in world_cups[year] :\n",
    "        print(\"New Zealand made it to Finals\")\n",
    "    else:\n",
    "        print(\"New Zealand could not make it to Finals\")\n",
    "        \n",
    "else:\n",
    "    print(\"World cup wasnt played in\", year)"
   ]
  },
  {
   "cell_type": "code",
   "execution_count": null,
   "metadata": {},
   "outputs": [],
   "source": [
    "import ast,sys\n",
    "input_str = sys.stdin.read()\n",
    "\n",
    "#Write your code here\n",
    "#Use capital YES or NO\n",
    "\n",
    "if \"a\" in input_str or \"e\" in input_str or \"i\" in input_str or \"o\" in input_str or \"u\" in input_str or \"A\" in input_str or \"E\" in input_str or \"I\" in input_str or \"O\" in input_str or \"U\" in input_str:\n",
    "    print(\"YES\")\n",
    "else:\n",
    "    print(\"NO\")"
   ]
  },
  {
   "cell_type": "code",
   "execution_count": null,
   "metadata": {},
   "outputs": [],
   "source": [
    "# Now if we want to add a maximum number of tries allowed we'll add an 'if loop'\n",
    "\n",
    "import sys    #required for exiting the code and displaying an error\n",
    "\n",
    "pin = input(\"Enter your four digit pin: \")\n",
    "attempt_count = 1\n",
    "while pin != '1234':\n",
    "    if attempt_count >= 3:\n",
    "     sys.exit(\"Too many invalid attempts\")   #error code\n",
    "    pin = input('Invalid input, please try again: ')  \n",
    "    attempt_count += 1\n",
    "print(\"Pin validation successful.\")"
   ]
  },
  {
   "cell_type": "code",
   "execution_count": null,
   "metadata": {},
   "outputs": [],
   "source": [
    "L1 = [10, 20, 30, 24, 18]\n",
    "L2 = [8, 14, 15, 20, 10]\n",
    "L3 = [0, 1, 2, 3, 4]\n",
    "\n",
    "for i in L3:\n",
    "    L3[i] = L1[i] - L2[i]"
   ]
  },
  {
   "cell_type": "code",
   "execution_count": null,
   "metadata": {},
   "outputs": [],
   "source": [
    "import ast,sys\n",
    "input_str = sys.stdin.read()\n",
    "input_list = ast.literal_eval(input_str)\n",
    "\n",
    "# Type your code here\n",
    "a=[]\n",
    "for i in input_list:\n",
    "    a.append(i.capitalize())\n",
    "print(a)"
   ]
  },
  {
   "cell_type": "code",
   "execution_count": null,
   "metadata": {},
   "outputs": [],
   "source": [
    "L1 = [10, 20, 30, 24, 18]\n",
    "L2 = [8, 14, 15, 20, 10]\n",
    "L3 = []\n",
    "for  i in range(len(L1)):\n",
    "    L3.append(L1[i] - L2[i])\n",
    "L3"
   ]
  },
  {
   "cell_type": "code",
   "execution_count": null,
   "metadata": {},
   "outputs": [],
   "source": [
    " using list comprehension\n",
    "L1 = [10, 20, 30, 24, 18]\n",
    "L2 = [8, 14, 15, 20, 10]\n",
    "L3 = [L1[i] - L2[i] for i  in range(0, len(L1))]\n",
    "L3"
   ]
  },
  {
   "cell_type": "code",
   "execution_count": null,
   "metadata": {},
   "outputs": [],
   "source": [
    "# Creating a dictionary consisting of even natural numbers as key and square of each element as value \n",
    "ordinary_dict ={}\n",
    "\n",
    "for i in range(2,21):\n",
    "    if i % 2 == 0:\n",
    "        ordinary_dict[i] = i**2\n",
    "\n",
    "print(ordinary_dict)"
   ]
  },
  {
   "cell_type": "code",
   "execution_count": null,
   "metadata": {},
   "outputs": [],
   "source": [
    "#Using dictionary comprehension\n",
    "updated_dict = {i : i**2 for i in range(2,21) if i % 2 ==0}\n",
    "print(updated_dict"
   ]
  },
  {
   "cell_type": "code",
   "execution_count": null,
   "metadata": {},
   "outputs": [],
   "source": [
    "def list_diff(list1,list2):\n",
    "    list3 = []\n",
    "    for  i in range(0, len(list1)):\n",
    "        list3.append(list1[i] - list2[i])\n",
    "    return list3\n",
    "\n",
    "L1 = [10, 20, 30, 24, 18]\n",
    "L2 = [8, 14, 15, 20, 10]\n",
    "\n",
    "print(list_diff(L1, L2))"
   ]
  },
  {
   "cell_type": "code",
   "execution_count": null,
   "metadata": {},
   "outputs": [],
   "source": [
    "import ast,sys\n",
    "input_str = sys.stdin.read()\n",
    "input_list = ast.literal_eval(input_str)\n",
    "x = int(input_list[0])\n",
    "y = int(input_list[1])\n",
    "\n",
    "#Write your code here\n",
    "def squared(x,y):\n",
    "    return (x**y)\n",
    "print(squared(x,y))"
   ]
  },
  {
   "cell_type": "code",
   "execution_count": null,
   "metadata": {},
   "outputs": [],
   "source": [
    "def list_diff(list1,list2):\n",
    "    list3 = []\n",
    "    for  i in range(0, len(list1)):\n",
    "        list3.append(list1[i] - list2[i])\n",
    "    return list3\n",
    "\n",
    "L1 = [10, 20, 30, 24, 18]\n",
    "L2 = [8, 14, 15, 20, 10]\n",
    "\n",
    "print(list_diff(L1, L2))"
   ]
  },
  {
   "cell_type": "code",
   "execution_count": null,
   "metadata": {},
   "outputs": [],
   "source": [
    "import ast,sys\n",
    "input_str = sys.stdin.read()\n",
    "input_list = ast.literal_eval(input_str)\n",
    "a = int(input_list[0])\n",
    "b = int(input_list[1])\n",
    "\n",
    "#Write your code here\n",
    "greater= lambda x, y: x if x>y else y\n",
    "print(greater(a,b))"
   ]
  },
  {
   "cell_type": "code",
   "execution_count": null,
   "metadata": {},
   "outputs": [],
   "source": [
    "def multi(x):\n",
    "    return x*2\n",
    "\n",
    "list_numbers = [1,2,3,4]\n",
    "sample_map = map(multi, list_numbers)\n",
    "\n",
    "print(list(sample_map))"
   ]
  },
  {
   "cell_type": "code",
   "execution_count": null,
   "metadata": {},
   "outputs": [],
   "source": [
    "import ast,sys\n",
    "input_str = sys.stdin.read()\n",
    "input_list = ast.literal_eval(input_str)\n",
    "count= list(map(lambda x: x[0] == 'S', input_list))\n",
    "print(count.count(True))"
   ]
  },
  {
   "cell_type": "code",
   "execution_count": null,
   "metadata": {},
   "outputs": [],
   "source": [
    "import ast,sys\n",
    "from functools import reduce\n",
    "input_str = sys.stdin.read()\n",
    "input_list = ast.literal_eval(input_str)\n",
    "first_name = input_list[0]\n",
    "last_name = input_list[1]\n",
    "\n",
    "name =a=list(map(lambda x,y:x+\" \" +y,first_name,last_name)) #Write your code here\n",
    "\n",
    "print(name)"
   ]
  },
  {
   "cell_type": "code",
   "execution_count": null,
   "metadata": {},
   "outputs": [],
   "source": [
    "import ast,sys\n",
    "input_str = sys.stdin.read()\n",
    "input_list = ast.literal_eval(input_str)\n",
    "\n",
    "list_answer =list(filter(lambda x: x%5==0 ,input_list))\n",
    "\n",
    "print(list_answer)"
   ]
  },
  {
   "cell_type": "code",
   "execution_count": null,
   "metadata": {},
   "outputs": [],
   "source": [
    "import ast,sys\n",
    "input_str = sys.stdin.read()\n",
    "input_list = ast.literal_eval(input_str)\n",
    "\n",
    "sp =list(filter(lambda x : x[0] == \"s\" and x[-1]==\"p\", input_list)) #Write your code here\n",
    "\n",
    "print(sp)"
   ]
  },
  {
   "cell_type": "code",
   "execution_count": null,
   "metadata": {},
   "outputs": [],
   "source": [
    "import ast,sys\n",
    "input_str = sys.stdin.read()\n",
    "input_list = ast.literal_eval(input_str)\n",
    "\n",
    "from functools import reduce\n",
    "sp =reduce(lambda x,y: x+\" \"+y , input_list)\n",
    "#write your code here.\n",
    "print(sp)\n",
    "# print()"
   ]
  },
  {
   "cell_type": "code",
   "execution_count": null,
   "metadata": {},
   "outputs": [],
   "source": [
    "import ast,sys\n",
    "input_str = sys.stdin.read()\n",
    "input_list = ast.literal_eval(input_str)\n",
    "from functools import reduce\n",
    "\n",
    "answer =reduce(lambda x,y: x if x>y else y, input_list)\n",
    "print(answer)"
   ]
  }
 ],
 "metadata": {
  "kernelspec": {
   "display_name": "Python 3",
   "language": "python",
   "name": "python3"
  },
  "language_info": {
   "codemirror_mode": {
    "name": "ipython",
    "version": 3
   },
   "file_extension": ".py",
   "mimetype": "text/x-python",
   "name": "python",
   "nbconvert_exporter": "python",
   "pygments_lexer": "ipython3",
   "version": "3.8.5"
  }
 },
 "nbformat": 4,
 "nbformat_minor": 4
}
