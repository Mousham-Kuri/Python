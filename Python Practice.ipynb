{
 "cells": [
  {
   "cell_type": "code",
   "execution_count": 9,
   "metadata": {},
   "outputs": [
    {
     "data": {
      "text/plain": [
       "(str, int, float, bool)"
      ]
     },
     "execution_count": 9,
     "metadata": {},
     "output_type": "execute_result"
    }
   ],
   "source": [
    "# varianble\n",
    "\n",
    "price=10\n",
    "rating=4.7\n",
    "name=\"Mani\"\n",
    "is_published= False\n",
    "type(name),type(price),type(rating),type(is_published)"
   ]
  },
  {
   "cell_type": "code",
   "execution_count": 11,
   "metadata": {},
   "outputs": [
    {
     "name": "stdout",
     "output_type": "stream",
     "text": [
      "what is your name ? john\n",
      "hi john\n"
     ]
    }
   ],
   "source": [
    "name=input(\"what is your name ? \")\n",
    "print(\"hi \"+ name)"
   ]
  },
  {
   "cell_type": "code",
   "execution_count": 14,
   "metadata": {},
   "outputs": [
    {
     "name": "stdout",
     "output_type": "stream",
     "text": [
      "birth year: 1993\n",
      "28\n"
     ]
    }
   ],
   "source": [
    "#Type conversion\\\n",
    "birth_year=input(\"birth year: \")\n",
    "age=2021- int(birth_year)\n",
    "print(age)"
   ]
  },
  {
   "cell_type": "code",
   "execution_count": 15,
   "metadata": {},
   "outputs": [
    {
     "name": "stdout",
     "output_type": "stream",
     "text": [
      "p\n",
      "s\n",
      "pytho\n",
      "thon programes for beginer's\n",
      "python \n",
      "python programes for beginer's\n"
     ]
    }
   ],
   "source": [
    "#strng\n",
    "course=\"python programes for beginer's\"\n",
    "print(course[0])\n",
    "print(course[-1])\n",
    "print(course[0:5])\n",
    "print(course[2:])\n",
    "print(course[:7])\n",
    "print(course[:])\n"
   ]
  },
  {
   "cell_type": "code",
   "execution_count": 18,
   "metadata": {},
   "outputs": [
    {
     "name": "stdout",
     "output_type": "stream",
     "text": [
      "John [Smith] is a coder\n",
      "John [Smith] is a coder\n"
     ]
    }
   ],
   "source": [
    "#formatted string\n",
    "first=\"John\"\n",
    "last=\"Smith\"\n",
    "message= first + \" [\" + last + \"] is a coder\"\n",
    "print(message)\n",
    "msg=f'{first} [{last}] is a coder'\n",
    "print(msg)"
   ]
  },
  {
   "cell_type": "code",
   "execution_count": 23,
   "metadata": {},
   "outputs": [
    {
     "name": "stdout",
     "output_type": "stream",
     "text": [
      "30\n",
      "PYTHON PROGRAMES FOR BEGINER'S\n",
      "python programes for beginer's\n",
      "2\n",
      "python programes for beginer's\n",
      "True\n",
      "Python Programes For Beginer'S\n"
     ]
    }
   ],
   "source": [
    "#string methods\n",
    "print(len(course))\n",
    "print(course.upper())\n",
    "print(course.lower())\n",
    "print(course.find(\"t\"))\n",
    "print(course.replace(\"P\",\"J\"))\n",
    "print(\"beginer's\" in course)\n",
    "print(course.title())"
   ]
  },
  {
   "cell_type": "code",
   "execution_count": 27,
   "metadata": {},
   "outputs": [
    {
     "name": "stdout",
     "output_type": "stream",
     "text": [
      "3\n",
      "3\n",
      "3\n",
      "2\n"
     ]
    }
   ],
   "source": [
    "#math Function\n",
    "x=2.9\n",
    "print(round(x))\n",
    "print(abs(-3))\n",
    "import math\n",
    "print(math.ceil(x))\n",
    "print(math.floor(x))"
   ]
  },
  {
   "cell_type": "code",
   "execution_count": 31,
   "metadata": {},
   "outputs": [
    {
     "name": "stdout",
     "output_type": "stream",
     "text": [
      "its a lovely day\n",
      "Enjoy your day\n"
     ]
    }
   ],
   "source": [
    "#if statements\n",
    "\n",
    "is_hot=False\n",
    "is_cold=False\n",
    "if is_hot:\n",
    "    print(\"its a hot day\")\n",
    "    print(\"Dring lot of water\")\n",
    "elif is_cold:\n",
    "    print(\"Its a clod day\")\n",
    "    print(\"Wear warm clothes\")\n",
    "else:\n",
    "    print(\"its a lovely day\")\n",
    "print(\"Enjoy your day\")"
   ]
  },
  {
   "cell_type": "code",
   "execution_count": 37,
   "metadata": {},
   "outputs": [
    {
     "name": "stdout",
     "output_type": "stream",
     "text": [
      "False\n",
      " Down payment: $200000.0\n"
     ]
    }
   ],
   "source": [
    "house_cost=1000000\n",
    "credit_score_good=input()\n",
    "if credit_score_good==True:\n",
    "    down_payment=.1*house_cost\n",
    "else:\n",
    "    down_payment=.2*house_cost\n",
    "print(f' Down payment: ${down_payment}')"
   ]
  },
  {
   "cell_type": "code",
   "execution_count": 1,
   "metadata": {},
   "outputs": [
    {
     "name": "stdout",
     "output_type": "stream",
     "text": [
      "start\n",
      "Car is started\n",
      "start\n",
      "the car is already started dummy\n",
      "stop\n",
      "car is stopped\n",
      "stop\n",
      "car is already stopped dummy\n",
      "quit\n"
     ]
    }
   ],
   "source": [
    "# While loop\n",
    "data=\"\"\n",
    "started=False\n",
    "while True:\n",
    "    data=input().upper()\n",
    "    if data==\"START\":\n",
    "        if started:\n",
    "            print(\"the car is already started dummy\")\n",
    "        else:\n",
    "            started=True\n",
    "            print(\"Car is started\")\n",
    "    elif data.upper()==\"STOP\":\n",
    "        if data==\"STOP\":\n",
    "            if not started:\n",
    "                print(\"car is already stopped dummy\")\n",
    "            else:\n",
    "                started=False\n",
    "                print(\"car is stopped\")\n",
    "    elif data.upper()==\"QUIT\":\n",
    "        break\n",
    "    elif data==\"HELP\":\n",
    "        print(\"\"\"\n",
    "Start- to start the car \n",
    "Stop- to stop the car\n",
    "Quit- to exit\"\"\")\n",
    "    else:\n",
    "        print(\"I dont understand that\")\n",
    "    "
   ]
  },
  {
   "cell_type": "code",
   "execution_count": 3,
   "metadata": {},
   "outputs": [
    {
     "name": "stdout",
     "output_type": "stream",
     "text": [
      "john\n",
      "sara\n",
      "doddy\n"
     ]
    }
   ],
   "source": [
    "# for loops\n",
    "\n",
    "for i in [\"john\",\"sara\",\"doddy\"]:\n",
    "    print(i)"
   ]
  },
  {
   "cell_type": "code",
   "execution_count": 6,
   "metadata": {},
   "outputs": [
    {
     "name": "stdout",
     "output_type": "stream",
     "text": [
      "90\n",
      "92\n",
      "94\n",
      "96\n",
      "98\n"
     ]
    }
   ],
   "source": [
    "for i in range(90,100,2):\n",
    "    print(i)"
   ]
  },
  {
   "cell_type": "code",
   "execution_count": 20,
   "metadata": {},
   "outputs": [
    {
     "name": "stdout",
     "output_type": "stream",
     "text": [
      "1,2,3,4\n",
      "total cost: 10\n"
     ]
    }
   ],
   "source": [
    "items=input().split(\",\")\n",
    "a=0\n",
    "for i in items:\n",
    "    a=a+int(i)\n",
    "print(f\"total cost: {a}\")"
   ]
  },
  {
   "cell_type": "code",
   "execution_count": 23,
   "metadata": {},
   "outputs": [
    {
     "name": "stdout",
     "output_type": "stream",
     "text": [
      "(0,0)\n",
      "(0,1)\n",
      "(0,2)\n",
      "(0,3)\n",
      "(1,0)\n",
      "(1,1)\n",
      "(1,2)\n",
      "(1,3)\n",
      "(2,0)\n",
      "(2,1)\n",
      "(2,2)\n",
      "(2,3)\n",
      "(3,0)\n",
      "(3,1)\n",
      "(3,2)\n",
      "(3,3)\n"
     ]
    }
   ],
   "source": [
    "#nested loop\n",
    "\n",
    "for x in range(4):\n",
    "    for y in range(4):\n",
    "        print(f\"({x},{y})\")"
   ]
  },
  {
   "cell_type": "code",
   "execution_count": 25,
   "metadata": {},
   "outputs": [
    {
     "name": "stdout",
     "output_type": "stream",
     "text": [
      "5,2,5,2,2\n",
      "XXXXX\n",
      "XX\n",
      "XXXXX\n",
      "XX\n",
      "XX\n"
     ]
    }
   ],
   "source": [
    "item=input().split(\",\")\n",
    "for i in item:\n",
    "    a=\"X\" * int(i)\n",
    "    print(a)"
   ]
  },
  {
   "cell_type": "code",
   "execution_count": 31,
   "metadata": {},
   "outputs": [
    {
     "name": "stdout",
     "output_type": "stream",
     "text": [
      "5,2,5,2,2\n",
      "xxxxx\n",
      "xx\n",
      "xxxxx\n",
      "xx\n",
      "xx\n"
     ]
    }
   ],
   "source": [
    "item=input().split(\",\")\n",
    "for i in item:\n",
    "    a=\"\"\n",
    "    for j in range(int(i)):\n",
    "        a+=\"x\"\n",
    "    print(a)"
   ]
  },
  {
   "cell_type": "code",
   "execution_count": 35,
   "metadata": {},
   "outputs": [
    {
     "name": "stdout",
     "output_type": "stream",
     "text": [
      "['mosh', 'Bob']\n"
     ]
    }
   ],
   "source": [
    "#list\n",
    "\n",
    "names=[\"john\",\"mosh\",\"Bob\",\"Sarah\"]\n",
    "print(names[1:-1])"
   ]
  },
  {
   "cell_type": "code",
   "execution_count": 66,
   "metadata": {},
   "outputs": [
    {
     "name": "stdout",
     "output_type": "stream",
     "text": [
      "4\n",
      "12\n",
      "3\n",
      "5\n",
      "6\n",
      "12\n"
     ]
    }
   ],
   "source": [
    "lists=[]\n",
    "num=input()\n",
    "for i in range(int(num)):\n",
    "    a=int(input())\n",
    "    lists.append(a)\n",
    "maxm=lists[0]\n",
    "for i in lists:\n",
    "    if maxm<i:\n",
    "        maxm=i\n",
    "print(maxm)"
   ]
  },
  {
   "cell_type": "code",
   "execution_count": 58,
   "metadata": {},
   "outputs": [
    {
     "name": "stdout",
     "output_type": "stream",
     "text": [
      "2\n"
     ]
    }
   ],
   "source": [
    "# 2d list\n",
    "\n",
    "matrix=[\n",
    "    [1,2,3],\n",
    "    [3,4,5],\n",
    "    [6,7,8]\n",
    "]\n",
    "print(matrix[0][1])"
   ]
  },
  {
   "cell_type": "code",
   "execution_count": 59,
   "metadata": {},
   "outputs": [
    {
     "name": "stdout",
     "output_type": "stream",
     "text": [
      "1\n",
      "2\n",
      "3\n",
      "3\n",
      "4\n",
      "5\n",
      "6\n",
      "7\n",
      "8\n"
     ]
    }
   ],
   "source": [
    "matrix=[\n",
    "    [1,2,3],\n",
    "    [3,4,5],\n",
    "    [6,7,8]\n",
    "]\n",
    "for row in matrix:\n",
    "    for number in row:\n",
    "        print(number)"
   ]
  },
  {
   "cell_type": "code",
   "execution_count": 70,
   "metadata": {},
   "outputs": [
    {
     "name": "stdout",
     "output_type": "stream",
     "text": [
      "enter the number of rows:3\n",
      "enter the number of columns:3\n",
      "enter the value: 3\n"
     ]
    },
    {
     "ename": "IndexError",
     "evalue": "list assignment index out of range",
     "output_type": "error",
     "traceback": [
      "\u001b[1;31m---------------------------------------------------------------------------\u001b[0m",
      "\u001b[1;31mIndexError\u001b[0m                                Traceback (most recent call last)",
      "\u001b[1;32m<ipython-input-70-9c03ee223d64>\u001b[0m in \u001b[0;36m<module>\u001b[1;34m\u001b[0m\n\u001b[0;32m      4\u001b[0m \u001b[1;32mfor\u001b[0m \u001b[0mi\u001b[0m \u001b[1;32min\u001b[0m \u001b[0mrange\u001b[0m\u001b[1;33m(\u001b[0m\u001b[0mrow\u001b[0m\u001b[1;33m)\u001b[0m\u001b[1;33m:\u001b[0m\u001b[1;33m\u001b[0m\u001b[1;33m\u001b[0m\u001b[0m\n\u001b[0;32m      5\u001b[0m     \u001b[1;32mfor\u001b[0m \u001b[0mj\u001b[0m \u001b[1;32min\u001b[0m \u001b[0mrange\u001b[0m\u001b[1;33m(\u001b[0m\u001b[0mcol\u001b[0m\u001b[1;33m)\u001b[0m\u001b[1;33m:\u001b[0m\u001b[1;33m\u001b[0m\u001b[1;33m\u001b[0m\u001b[0m\n\u001b[1;32m----> 6\u001b[1;33m         \u001b[0mmatrix\u001b[0m\u001b[1;33m[\u001b[0m\u001b[0mi\u001b[0m\u001b[1;33m]\u001b[0m\u001b[1;33m[\u001b[0m\u001b[0mj\u001b[0m\u001b[1;33m]\u001b[0m\u001b[1;33m=\u001b[0m\u001b[0mint\u001b[0m\u001b[1;33m(\u001b[0m\u001b[0minput\u001b[0m\u001b[1;33m(\u001b[0m\u001b[1;34m\"enter the value: \"\u001b[0m\u001b[1;33m)\u001b[0m\u001b[1;33m)\u001b[0m\u001b[1;33m\u001b[0m\u001b[1;33m\u001b[0m\u001b[0m\n\u001b[0m\u001b[0;32m      7\u001b[0m \u001b[0mprint\u001b[0m\u001b[1;33m(\u001b[0m\u001b[0mmatrix\u001b[0m\u001b[1;33m)\u001b[0m\u001b[1;33m\u001b[0m\u001b[1;33m\u001b[0m\u001b[0m\n",
      "\u001b[1;31mIndexError\u001b[0m: list assignment index out of range"
     ]
    }
   ],
   "source": [
    "matrix=[[],[],[]]\n",
    "row=int(input(\"enter the number of rows:\"))\n",
    "col=int(input(\"enter the number of columns:\"))\n",
    "for i in range(row):\n",
    "    for j in range(col):\n",
    "        matrix[i][j]=int(input(\"enter the value: \"))\n",
    "print(matrix)"
   ]
  },
  {
   "cell_type": "code",
   "execution_count": 75,
   "metadata": {},
   "outputs": [
    {
     "name": "stdout",
     "output_type": "stream",
     "text": [
      "[12, 1, 2, 3, 5, 8, 10]\n"
     ]
    }
   ],
   "source": [
    "matrix=[1,2,3,5,8,10]\n",
    "matrix.insert(0,12)\n",
    "print(matrix)"
   ]
  },
  {
   "cell_type": "code",
   "execution_count": 72,
   "metadata": {},
   "outputs": [
    {
     "name": "stdout",
     "output_type": "stream",
     "text": [
      "[12, 1, 3, 5, 8, 10]\n"
     ]
    }
   ],
   "source": [
    "matrix.remove(2)\n",
    "print(matrix)"
   ]
  },
  {
   "cell_type": "code",
   "execution_count": 73,
   "metadata": {},
   "outputs": [],
   "source": [
    "matrix.clear()"
   ]
  },
  {
   "cell_type": "code",
   "execution_count": 74,
   "metadata": {},
   "outputs": [
    {
     "name": "stdout",
     "output_type": "stream",
     "text": [
      "[]\n"
     ]
    }
   ],
   "source": [
    "print(matrix)"
   ]
  },
  {
   "cell_type": "code",
   "execution_count": 76,
   "metadata": {},
   "outputs": [
    {
     "name": "stdout",
     "output_type": "stream",
     "text": [
      "10\n"
     ]
    }
   ],
   "source": [
    "a=matrix.pop()\n",
    "print(a)"
   ]
  },
  {
   "cell_type": "code",
   "execution_count": 77,
   "metadata": {},
   "outputs": [
    {
     "name": "stdout",
     "output_type": "stream",
     "text": [
      "3\n"
     ]
    }
   ],
   "source": [
    "print(matrix.index(3))"
   ]
  },
  {
   "cell_type": "code",
   "execution_count": 80,
   "metadata": {},
   "outputs": [
    {
     "name": "stdout",
     "output_type": "stream",
     "text": [
      "True\n"
     ]
    }
   ],
   "source": [
    "print(5 in matrix)"
   ]
  },
  {
   "cell_type": "code",
   "execution_count": 81,
   "metadata": {},
   "outputs": [
    {
     "name": "stdout",
     "output_type": "stream",
     "text": [
      "1\n"
     ]
    }
   ],
   "source": [
    "print(matrix.count(5))"
   ]
  },
  {
   "cell_type": "code",
   "execution_count": 82,
   "metadata": {},
   "outputs": [
    {
     "name": "stdout",
     "output_type": "stream",
     "text": [
      "[1, 2, 3, 5, 8, 12]\n"
     ]
    }
   ],
   "source": [
    "matrix.sort()\n",
    "print(matrix)"
   ]
  },
  {
   "cell_type": "code",
   "execution_count": 90,
   "metadata": {},
   "outputs": [
    {
     "name": "stdout",
     "output_type": "stream",
     "text": [
      "2 1 [2, 3, 4, 1, 2, 3, 3, 4, 5, 6]\n",
      "3 3 [2, 4, 1, 2, 3, 3, 4, 5, 6]\n",
      "1 1 [2, 4, 1, 2, 3, 3, 4, 5, 6]\n",
      "2 2 [4, 1, 2, 3, 3, 4, 5, 6]\n",
      "2 3 [4, 1, 2, 3, 4, 5, 6]\n",
      "1 5 [4, 1, 2, 3, 4, 5, 6]\n",
      "1 6 [4, 1, 2, 3, 4, 5, 6]\n"
     ]
    }
   ],
   "source": [
    "matrixs=[1,2,3,4,1,2,3,3,4,5,6]\n",
    "for i in matrixs:\n",
    "    count=matrixs.count(i)\n",
    "    if count>1:\n",
    "        matrixs.remove(i)\n",
    "    print(count,i,matrixs)"
   ]
  },
  {
   "cell_type": "code",
   "execution_count": 100,
   "metadata": {},
   "outputs": [
    {
     "name": "stdout",
     "output_type": "stream",
     "text": [
      "[1, 2, 3, 4, 5, 6]\n"
     ]
    }
   ],
   "source": [
    "matrixs=[1,2,3,4,1,2,3,3,4,5,6]\n",
    "unique=[]\n",
    "for i in matrixs:\n",
    "    if i not in unique:\n",
    "        unique.append(i)\n",
    "print(unique)"
   ]
  },
  {
   "cell_type": "code",
   "execution_count": 102,
   "metadata": {},
   "outputs": [
    {
     "name": "stdout",
     "output_type": "stream",
     "text": [
      "1\n"
     ]
    }
   ],
   "source": [
    "#tuples\n",
    "number=(1,2,3)\n",
    "print(number[0])"
   ]
  },
  {
   "cell_type": "code",
   "execution_count": 103,
   "metadata": {},
   "outputs": [
    {
     "name": "stdout",
     "output_type": "stream",
     "text": [
      "1 2 3\n"
     ]
    }
   ],
   "source": [
    "#unpacking\n",
    "\n",
    "coordinates=(1,2,3)\n",
    "x,y,z= coordinates\n",
    "print(x,y,z)"
   ]
  },
  {
   "cell_type": "code",
   "execution_count": 104,
   "metadata": {},
   "outputs": [
    {
     "name": "stdout",
     "output_type": "stream",
     "text": [
      "1 2 3 4\n"
     ]
    }
   ],
   "source": [
    "number=[1,2,3,4]\n",
    "x,y,z,q=number\n",
    "print(x,y,z,q)"
   ]
  },
  {
   "cell_type": "code",
   "execution_count": 111,
   "metadata": {},
   "outputs": [
    {
     "name": "stdout",
     "output_type": "stream",
     "text": [
      "Jack Smith\n",
      "january 1 1980\n",
      "30\n",
      "january\n"
     ]
    }
   ],
   "source": [
    "#dictonary\n",
    "\n",
    "customer={\n",
    "    \"name\":\"john smith\",\n",
    "    \"age\":30,\n",
    "    \"is_verified\":True\n",
    "}\n",
    "customer[\"name\"]=\"Jack Smith\" ## updation\n",
    "customer[\"birth\"]=\"january\" ## addition\n",
    "print(customer[\"name\"])\n",
    "print(customer.get(\"birthday\",\"january 1 1980\")) # get\n",
    "print(customer.get(\"age\"))\n",
    "print(customer.get(\"birth\"))"
   ]
  },
  {
   "cell_type": "code",
   "execution_count": 121,
   "metadata": {},
   "outputs": [
    {
     "name": "stdout",
     "output_type": "stream",
     "text": [
      "phone: 123\n",
      "One Two Three \n"
     ]
    }
   ],
   "source": [
    "a=input(\"phone: \")\n",
    "phone={\n",
    "    \"1\":\"One\",\n",
    "    \"2\":\"Two\",\n",
    "    \"3\":\"Three\",\n",
    "    \"4\":\"Four\",\n",
    "    \"5\":\"Five\"\n",
    "}\n",
    "output=\"\"\n",
    "for i in a:\n",
    "    output=output+phone.get(i,\"!\") + \" \"\n",
    "print(output)"
   ]
  },
  {
   "cell_type": "code",
   "execution_count": 131,
   "metadata": {},
   "outputs": [
    {
     "name": "stdout",
     "output_type": "stream",
     "text": [
      "Hi am Happy\n",
      "Hi am :) \n"
     ]
    }
   ],
   "source": [
    "# emoji converter\n",
    "\n",
    "inp=input().split(\" \")\n",
    "emoji={\n",
    "    \"Sad\":\":(\",\n",
    "    \"Happy\":\":)\"\n",
    "}\n",
    "output=\"\"\n",
    "for i in inp:\n",
    "    output=output+emoji.get(i,i)+\" \"\n",
    "print(output)"
   ]
  },
  {
   "cell_type": "code",
   "execution_count": 135,
   "metadata": {},
   "outputs": [
    {
     "name": "stdout",
     "output_type": "stream",
     "text": [
      "Firstname: Mousham\n",
      "LastnameKuri\n",
      "name: Mousham Kuri\n"
     ]
    }
   ],
   "source": [
    "# functions\n",
    "\n",
    "def name(x,y):\n",
    "    print(f\"name: {x} {y}\")\n",
    "name(input(\"Firstname: \"),input(\"Lastname\"))"
   ]
  },
  {
   "cell_type": "code",
   "execution_count": 139,
   "metadata": {},
   "outputs": [
    {
     "name": "stdout",
     "output_type": "stream",
     "text": [
      "Lastname: Kuri\n",
      "FirstnameMosuahm\n",
      "name: Mosuahm Kuri\n"
     ]
    }
   ],
   "source": [
    "def name(x,y):\n",
    "    print(f\"name: {x} {y}\")\n",
    "name(y=input(\"Lastname: \"),x=input(\"Firstname\"))"
   ]
  },
  {
   "cell_type": "code",
   "execution_count": 142,
   "metadata": {},
   "outputs": [
    {
     "name": "stdout",
     "output_type": "stream",
     "text": [
      "2\n",
      "3\n",
      "8\n"
     ]
    }
   ],
   "source": [
    "def number(x,y):\n",
    "    return x**y\n",
    "print(number(int(input()),int(input())))"
   ]
  },
  {
   "cell_type": "code",
   "execution_count": 149,
   "metadata": {},
   "outputs": [
    {
     "name": "stdout",
     "output_type": "stream",
     "text": [
      "HI Happy\n",
      "HI :) \n"
     ]
    }
   ],
   "source": [
    "def emo (inp):\n",
    "    a=inp.split(\" \")\n",
    "    emoji={\n",
    "        \"Sad\":\":(\",\n",
    "        \"Happy\":\":)\"\n",
    "    }\n",
    "    output=\"\"\n",
    "    for i in a:\n",
    "        output=output+emoji.get(i,i)+\" \"\n",
    "    return output\n",
    "print(emo(input()))"
   ]
  },
  {
   "cell_type": "code",
   "execution_count": 160,
   "metadata": {},
   "outputs": [
    {
     "name": "stdout",
     "output_type": "stream",
     "text": [
      "2\n",
      "3\n",
      "5\n"
     ]
    }
   ],
   "source": [
    "# class\n",
    "class AritOper:\n",
    "    \n",
    "    def __init__(self,a,b):   ## constructoer\n",
    "        self.a=a\n",
    "        self.b=b\n",
    "    \n",
    "    def add(self):\n",
    "        return(self.a+self.b)\n",
    "    \n",
    "    def sub(self):\n",
    "        return(self.a-self.b)\n",
    "    \n",
    "    def mul(self):\n",
    "        return(self.a*self.b)\n",
    "    \n",
    "    def div(self):\n",
    "        return(self.a/self.b)\n",
    "    \n",
    "    def power(self):\n",
    "        return(self.a**self.b)\n",
    "\n",
    "\n",
    "cal=AritOper(int(input()),int(input()))\n",
    "c=cal.add()\n",
    "print(c)"
   ]
  },
  {
   "cell_type": "code",
   "execution_count": 165,
   "metadata": {},
   "outputs": [
    {
     "name": "stdout",
     "output_type": "stream",
     "text": [
      "John talk\n"
     ]
    }
   ],
   "source": [
    "class Person:\n",
    "    def __init__(self,name):\n",
    "        self.name=name\n",
    "    def talk(self):\n",
    "        print(f\"{self.name} talk\")\n",
    "\n",
    "\n",
    "a=Person(\"John\")\n",
    "a.talk()"
   ]
  },
  {
   "cell_type": "code",
   "execution_count": 168,
   "metadata": {},
   "outputs": [
    {
     "name": "stdout",
     "output_type": "stream",
     "text": [
      "walk\n",
      "walk\n",
      "meao\n"
     ]
    }
   ],
   "source": [
    "# inherentance\n",
    "\n",
    "class mammal:\n",
    "    def walk(self):\n",
    "        print(\"walk\")\n",
    "\n",
    "\n",
    "class Dog(mammal):\n",
    "    pass\n",
    "\n",
    "\n",
    "class cat(mammal):\n",
    "    def meao(self):\n",
    "        print(\"meao\")\n",
    "\n",
    "\n",
    "dog=Dog()\n",
    "dog.walk()\n",
    "cat=cat()\n",
    "cat.walk()\n",
    "cat.meao()"
   ]
  },
  {
   "cell_type": "code",
   "execution_count": 170,
   "metadata": {},
   "outputs": [
    {
     "name": "stdout",
     "output_type": "stream",
     "text": [
      "20\n",
      "15\n",
      "16\n"
     ]
    }
   ],
   "source": [
    "# random values\n",
    "\n",
    "import random\n",
    "\n",
    "for i in range(3):\n",
    "    print(random.randint(10,20))"
   ]
  },
  {
   "cell_type": "code",
   "execution_count": 171,
   "metadata": {},
   "outputs": [
    {
     "name": "stdout",
     "output_type": "stream",
     "text": [
      "z\n"
     ]
    }
   ],
   "source": [
    "members=[\"a\",\"z\",\"w\",\"r\",\"q\",\"t\"]\n",
    "value=random.choice(members)\n",
    "print(value)"
   ]
  },
  {
   "cell_type": "code",
   "execution_count": 172,
   "metadata": {},
   "outputs": [
    {
     "name": "stdout",
     "output_type": "stream",
     "text": [
      "0.09997362474451488\n",
      "0.37698961298318545\n",
      "0.3151542162767599\n"
     ]
    }
   ],
   "source": [
    "import random\n",
    "\n",
    "for i in range(3):\n",
    "    print(random.random())"
   ]
  },
  {
   "cell_type": "code",
   "execution_count": 175,
   "metadata": {},
   "outputs": [
    {
     "name": "stdout",
     "output_type": "stream",
     "text": [
      "(5, 1)\n"
     ]
    }
   ],
   "source": [
    "import random\n",
    "class Dice:\n",
    "    def roll(self):\n",
    "        first=random.randint(1,6)\n",
    "        second=random.randint(1,6)\n",
    "        return first,second\n",
    "\n",
    "\n",
    "roll=Dice()\n",
    "print(roll.roll())"
   ]
  },
  {
   "cell_type": "code",
   "execution_count": null,
   "metadata": {},
   "outputs": [],
   "source": [
    "# automation using python \n",
    "\n",
    "import openpyxl as xl ## importing Open xl directory \n",
    "from openpyxl.chart import BarChart, Reference   ## gettig Barchart and reference classes\n",
    "\n",
    "wb=xl.load_workbook(\"transaction.xlsx\") # loading excel\n",
    "sheet=wb[\"Sheet1\"]  # accessing a particular sheet\n",
    "cell=sheet[\"a1\"]  # accessing a particular cell\n",
    "cell=sheet.cell(1,1)   # accessing a particular cell\n",
    "\n",
    "for row in range(2,sheet.max_row+1):  # goig through all the cells\n",
    "    cell=sheet.cell(row,3)     # accessing all the rows for column 3\n",
    "    corrected_price=cell.value*0.9    \n",
    "    corrected_price_cell=sheet.cell(row,4)  ## adding the values on column 4 of all the rows present\n",
    "    corrected_price_cell.value=corrected_price_cell\n",
    "\n",
    "values=Reference(sheet,\n",
    "                min_row=2,  # selecting starting row\n",
    "                max_row=sheet.max_row, # sheet.max_row tells the number of maximum rows in the sheet.\n",
    "                min_col=4,  #selecting starting column\n",
    "                max_col=4)   # selecting end column\n",
    "chart=BarChart()   \n",
    "chart.add_data(values)  # adding values to the chart\n",
    "sheet.add_chart(chart,\"e2\")    # providing the location of the chart\n",
    "wb.save(\"transactions.xlsx\")     # saving everything to the excel file"
   ]
  }
 ],
 "metadata": {
  "kernelspec": {
   "display_name": "Python 3",
   "language": "python",
   "name": "python3"
  },
  "language_info": {
   "codemirror_mode": {
    "name": "ipython",
    "version": 3
   },
   "file_extension": ".py",
   "mimetype": "text/x-python",
   "name": "python",
   "nbconvert_exporter": "python",
   "pygments_lexer": "ipython3",
   "version": "3.8.5"
  }
 },
 "nbformat": 4,
 "nbformat_minor": 4
}
