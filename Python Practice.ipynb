{
 "cells": [
  {
   "cell_type": "code",
   "execution_count": 1,
   "metadata": {},
   "outputs": [
    {
     "name": "stdout",
     "output_type": "stream",
     "text": [
      "welcome to pyhon programming\n"
     ]
    }
   ],
   "source": [
    "print(\"welcome to pyhon programming\")"
   ]
  },
  {
   "cell_type": "code",
   "execution_count": 2,
   "metadata": {},
   "outputs": [
    {
     "data": {
      "text/plain": [
       "'\\nMultiline comment\\n\\n'"
      ]
     },
     "execution_count": 2,
     "metadata": {},
     "output_type": "execute_result"
    }
   ],
   "source": [
    "#comments- used to describe codes\n",
    "\n",
    "'''\n",
    "Multiline comment\n",
    "\n",
    "'''"
   ]
  },
  {
   "cell_type": "code",
   "execution_count": 3,
   "metadata": {},
   "outputs": [
    {
     "data": {
      "text/plain": [
       "int"
      ]
     },
     "execution_count": 3,
     "metadata": {},
     "output_type": "execute_result"
    }
   ],
   "source": [
    "#use of type function\n",
    "type(3)"
   ]
  },
  {
   "cell_type": "code",
   "execution_count": 4,
   "metadata": {},
   "outputs": [
    {
     "name": "stdout",
     "output_type": "stream",
     "text": [
      "provide your namemousham\n"
     ]
    }
   ],
   "source": [
    "# how to accept input and store it in a variable\n",
    "a= input(\"provide your name\")"
   ]
  },
  {
   "cell_type": "code",
   "execution_count": 5,
   "metadata": {},
   "outputs": [
    {
     "name": "stdout",
     "output_type": "stream",
     "text": [
      "enter your name\n",
      "mousham\n",
      "enter your wish\n",
      "to learn python\n",
      "enter your address\n",
      "406\n"
     ]
    }
   ],
   "source": [
    "name= input(\"enter your name\\n\")\n",
    "wish= input(\"enter your wish\\n\")\n",
    "add= input(\"enter your address\\n\")"
   ]
  },
  {
   "cell_type": "code",
   "execution_count": 6,
   "metadata": {},
   "outputs": [
    {
     "name": "stdout",
     "output_type": "stream",
     "text": [
      "enter age26\n",
      "<class 'str'>\n"
     ]
    }
   ],
   "source": [
    "#predict output below\n",
    "\n",
    "age=input(\"enter age\")\n",
    "print(type(age))"
   ]
  },
  {
   "cell_type": "code",
   "execution_count": 7,
   "metadata": {},
   "outputs": [
    {
     "name": "stdout",
     "output_type": "stream",
     "text": [
      "enter age26\n",
      "<class 'int'>\n"
     ]
    }
   ],
   "source": [
    "#type casting\n",
    "\n",
    "age=int(input(\"enter age\"))\n",
    "print(type(age))\n"
   ]
  },
  {
   "cell_type": "code",
   "execution_count": 8,
   "metadata": {},
   "outputs": [
    {
     "name": "stdout",
     "output_type": "stream",
     "text": [
      "enter weight (pound)5\n",
      "KG equivalent 2.25\n"
     ]
    }
   ],
   "source": [
    "# pound to KG converter\n",
    "\n",
    "weight= int(input(\"enter weight (pound)\"))\n",
    "\n",
    "kg= weight*0.45\n",
    "\n",
    "print(\"KG equivalent\", kg)"
   ]
  },
  {
   "cell_type": "code",
   "execution_count": 1,
   "metadata": {},
   "outputs": [
    {
     "name": "stdout",
     "output_type": "stream",
     "text": [
      "enter the principal2\n",
      "enter the rate5\n",
      "enter the time6\n",
      "0.6\n"
     ]
    }
   ],
   "source": [
    "#enter principle rate time and display SI\n",
    "\n",
    "p=float(input(\"enter the principal\"))\n",
    "r=float(input(\"enter the rate\"))\n",
    "t=float(input(\"enter the time\"))\n",
    "\n",
    "print((p*r*t)/100)"
   ]
  },
  {
   "cell_type": "code",
   "execution_count": null,
   "metadata": {},
   "outputs": [],
   "source": [
    "# write a program to change from faranhite to celceius\n",
    "\n",
    "f=float(input(\"enter the temperature\"))\n",
    "print(((f-32)*5)/9)"
   ]
  },
  {
   "cell_type": "code",
   "execution_count": null,
   "metadata": {},
   "outputs": [],
   "source": [
    "#indents\n",
    "\n",
    "India:\n",
    "    Delhi:\n",
    "        chadni chowk:\n",
    "            cafe:\n",
    "                I am here.\n",
    "                "
   ]
  },
  {
   "cell_type": "code",
   "execution_count": 4,
   "metadata": {},
   "outputs": [
    {
     "name": "stdout",
     "output_type": "stream",
     "text": [
      "add age\n",
      "20\n",
      "can vote\n"
     ]
    }
   ],
   "source": [
    "age=int(input(\"add age\\n\"))\n",
    "\n",
    "if age>=18:\n",
    "    print(\"can vote\")\n",
    "else:\n",
    "    print(\"cannot vote\")"
   ]
  },
  {
   "cell_type": "code",
   "execution_count": 8,
   "metadata": {},
   "outputs": [
    {
     "name": "stdout",
     "output_type": "stream",
     "text": [
      "add rank\n",
      "5\n",
      "no devision\n"
     ]
    }
   ],
   "source": [
    "# condition \n",
    "\n",
    "rank=int(input(\"add rank\\n\"))\n",
    "\n",
    "if rank==1:\n",
    "    print(\"1st devision\")\n",
    "elif rank==2:\n",
    "    print(\"2nd devision\")\n",
    "elif rank==3:\n",
    "    print(\"3rd devision\")\n",
    "else:\n",
    "    print(\"no devision\")"
   ]
  },
  {
   "cell_type": "code",
   "execution_count": 14,
   "metadata": {},
   "outputs": [
    {
     "name": "stdout",
     "output_type": "stream",
     "text": [
      "add selling price\n",
      "2\n",
      "add cost price\n",
      "2\n",
      "no profit ir loss\n"
     ]
    }
   ],
   "source": [
    "sp=float(input(\"add selling price\\n\"))\n",
    "\n",
    "cp=float(input(\"add cost price\\n\"))\n",
    "\n",
    "if cp==sp:\n",
    "    print(\"no profit or loss\")\n",
    "elif sp>cp:\n",
    "    print(\"Profit\")\n",
    "else:\n",
    "    print(\"loss\")"
   ]
  },
  {
   "cell_type": "code",
   "execution_count": 15,
   "metadata": {},
   "outputs": [],
   "source": [
    "#loop\n",
    "#While\n",
    "#for"
   ]
  },
  {
   "cell_type": "code",
   "execution_count": 17,
   "metadata": {},
   "outputs": [
    {
     "name": "stdout",
     "output_type": "stream",
     "text": [
      "1\n",
      "2\n",
      "3\n",
      "4\n",
      "5\n",
      "6\n",
      "7\n",
      "8\n",
      "9\n",
      "10\n"
     ]
    }
   ],
   "source": [
    "meter=1\n",
    "\n",
    "while(meter<=10):\n",
    "    print(meter)\n",
    "    meter+=1"
   ]
  },
  {
   "cell_type": "code",
   "execution_count": 19,
   "metadata": {},
   "outputs": [
    {
     "name": "stdout",
     "output_type": "stream",
     "text": [
      "0\n",
      "1\n",
      "2\n",
      "3\n",
      "4\n"
     ]
    }
   ],
   "source": [
    "#range()\n",
    "for bag in range(5):\n",
    "    print(bag)"
   ]
  },
  {
   "cell_type": "code",
   "execution_count": 20,
   "metadata": {},
   "outputs": [
    {
     "name": "stdout",
     "output_type": "stream",
     "text": [
      "5\n",
      "6\n",
      "7\n",
      "8\n",
      "9\n",
      "10\n",
      "11\n",
      "12\n",
      "13\n",
      "14\n"
     ]
    }
   ],
   "source": [
    "for bag in range(5,15):\n",
    "    print(bag)"
   ]
  },
  {
   "cell_type": "code",
   "execution_count": 21,
   "metadata": {},
   "outputs": [
    {
     "name": "stdout",
     "output_type": "stream",
     "text": [
      "5\n",
      "7\n",
      "9\n",
      "11\n",
      "13\n"
     ]
    }
   ],
   "source": [
    "# interval/skip\n",
    "for bag in range(5,15,2):\n",
    "    print(bag)"
   ]
  },
  {
   "cell_type": "code",
   "execution_count": 24,
   "metadata": {},
   "outputs": [
    {
     "name": "stdout",
     "output_type": "stream",
     "text": [
      "1\n",
      "2\n",
      "3\n",
      "4\n",
      "ouch\n",
      "5\n",
      "6\n",
      "7\n",
      "8\n",
      "9\n",
      "10\n",
      "11\n",
      "12\n",
      "13\n",
      "14\n"
     ]
    }
   ],
   "source": [
    "# controlling loop\n",
    "for bag in range(1,15):\n",
    "    \n",
    "    if bag==5:\n",
    "        print(\"ouch\")\n",
    "        \n",
    "    print(bag)"
   ]
  },
  {
   "cell_type": "code",
   "execution_count": 27,
   "metadata": {},
   "outputs": [
    {
     "name": "stdout",
     "output_type": "stream",
     "text": [
      "1\n",
      "2\n",
      "3\n",
      "4\n",
      "6\n",
      "7\n",
      "8\n",
      "9\n",
      "10\n",
      "11\n",
      "12\n",
      "13\n",
      "14\n"
     ]
    }
   ],
   "source": [
    "#skip\n",
    "for bag in range(1,15):\n",
    "    \n",
    "    if bag==5:\n",
    "        \n",
    "        continue # when reaches the value mentioned it skips the code \n",
    "        \n",
    "    print(bag)"
   ]
  },
  {
   "cell_type": "code",
   "execution_count": 26,
   "metadata": {},
   "outputs": [
    {
     "name": "stdout",
     "output_type": "stream",
     "text": [
      "1\n",
      "2\n",
      "3\n",
      "4\n",
      "ouch\n"
     ]
    }
   ],
   "source": [
    "for bag in range(1,15):\n",
    "    \n",
    "    if bag==5:\n",
    "        print(\"ouch\")\n",
    "        break # stops after reaching here\n",
    "        \n",
    "    print(bag)"
   ]
  },
  {
   "cell_type": "code",
   "execution_count": null,
   "metadata": {},
   "outputs": [
    {
     "name": "stdout",
     "output_type": "stream",
     "text": [
      "first nmber\n",
      "10\n",
      "second number2\n",
      " devision 5.0\n",
      "first nmber\n",
      "1\n",
      "second number0\n"
     ]
    }
   ],
   "source": [
    "for c in range(5):\n",
    "    \n",
    "    a=int(input(\"first nmber\\n\"))\n",
    "    b=int(input(\"second number\"))\n",
    "    \n",
    "    if b==0:\n",
    "        continue\n",
    "        \n",
    "    result=a/b\n",
    "    print(\" devision\", result)"
   ]
  },
  {
   "cell_type": "code",
   "execution_count": null,
   "metadata": {},
   "outputs": [],
   "source": []
  }
 ],
 "metadata": {
  "kernelspec": {
   "display_name": "Python 3",
   "language": "python",
   "name": "python3"
  },
  "language_info": {
   "codemirror_mode": {
    "name": "ipython",
    "version": 3
   },
   "file_extension": ".py",
   "mimetype": "text/x-python",
   "name": "python",
   "nbconvert_exporter": "python",
   "pygments_lexer": "ipython3",
   "version": "3.8.5"
  }
 },
 "nbformat": 4,
 "nbformat_minor": 4
}
